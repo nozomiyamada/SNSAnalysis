{
 "cells": [
  {
   "cell_type": "code",
   "execution_count": 1,
   "metadata": {},
   "outputs": [],
   "source": [
    "from ScrapeFB import *\n",
    "import pandas as pd\n",
    "import bs4, time, re, json\n",
    "from datetime import datetime, timedelta"
   ]
  },
  {
   "cell_type": "code",
   "execution_count": 2,
   "metadata": {},
   "outputs": [],
   "source": [
    "window = WindowNoLogin(url='https://www.facebook.com/FreeYOUTHth/')"
   ]
  },
  {
   "cell_type": "code",
   "execution_count": 7,
   "metadata": {},
   "outputs": [],
   "source": [
    "window.scroll()"
   ]
  },
  {
   "cell_type": "code",
   "execution_count": null,
   "metadata": {},
   "outputs": [
    {
     "name": "stderr",
     "output_type": "stream",
     "text": [
      " 20%|██        | 6/30 [00:32<01:52,  4.69s/it]"
     ]
    }
   ],
   "source": [
    "window.scrape(filename='freeyouth.json', scroll=30)"
   ]
  },
  {
   "cell_type": "code",
   "execution_count": 14,
   "metadata": {},
   "outputs": [
    {
     "data": {
      "text/plain": [
       "559"
      ]
     },
     "execution_count": 14,
     "metadata": {},
     "output_type": "execute_result"
    }
   ],
   "source": [
    "len(window.scraped_posts)"
   ]
  },
  {
   "cell_type": "code",
   "execution_count": 11,
   "metadata": {},
   "outputs": [
    {
     "data": {
      "text/plain": [
       "[<selenium.webdriver.remote.webelement.WebElement (session=\"499b543292cd31d83578442165aa052d\", element=\"4681c582-0221-400a-b2f3-f8db67d970a0\")>,\n",
       " <selenium.webdriver.remote.webelement.WebElement (session=\"499b543292cd31d83578442165aa052d\", element=\"03a892fc-9781-4c8f-a9cc-698ee6bf6a27\")>,\n",
       " <selenium.webdriver.remote.webelement.WebElement (session=\"499b543292cd31d83578442165aa052d\", element=\"14d468c8-05e4-4844-9adf-8941f502c0f2\")>,\n",
       " <selenium.webdriver.remote.webelement.WebElement (session=\"499b543292cd31d83578442165aa052d\", element=\"33ca92f4-c8dd-48ac-a9dd-b7501cf40ea9\")>,\n",
       " <selenium.webdriver.remote.webelement.WebElement (session=\"499b543292cd31d83578442165aa052d\", element=\"f988976d-520e-42f0-ba6b-8285d246e6cd\")>,\n",
       " <selenium.webdriver.remote.webelement.WebElement (session=\"499b543292cd31d83578442165aa052d\", element=\"0f2bd257-2934-4501-8fed-a3f80274ce28\")>,\n",
       " <selenium.webdriver.remote.webelement.WebElement (session=\"499b543292cd31d83578442165aa052d\", element=\"8dcc17db-2e87-4d3c-84c9-93efed2fa28e\")>,\n",
       " <selenium.webdriver.remote.webelement.WebElement (session=\"499b543292cd31d83578442165aa052d\", element=\"8078b9fb-742f-42d9-950d-26c02522ff10\")>]"
      ]
     },
     "execution_count": 11,
     "metadata": {},
     "output_type": "execute_result"
    }
   ],
   "source": [
    "window.get_post_elements()"
   ]
  },
  {
   "cell_type": "code",
   "execution_count": null,
   "metadata": {},
   "outputs": [],
   "source": []
  }
 ],
 "metadata": {
  "kernelspec": {
   "display_name": "Python 3",
   "language": "python",
   "name": "python3"
  },
  "language_info": {
   "codemirror_mode": {
    "name": "ipython",
    "version": 3
   },
   "file_extension": ".py",
   "mimetype": "text/x-python",
   "name": "python",
   "nbconvert_exporter": "python",
   "pygments_lexer": "ipython3",
   "version": "3.8.10"
  }
 },
 "nbformat": 4,
 "nbformat_minor": 4
}
