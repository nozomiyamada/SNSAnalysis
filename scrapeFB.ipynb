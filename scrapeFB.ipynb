{
 "cells": [
  {
   "cell_type": "code",
   "execution_count": 2,
   "metadata": {},
   "outputs": [],
   "source": [
    "from ScrapeFB import *\n",
    "import pandas as pd\n",
    "import selenium\n",
    "import bs4, time, re, json, datetime"
   ]
  },
  {
   "cell_type": "code",
   "execution_count": 2,
   "metadata": {},
   "outputs": [],
   "source": [
    "#URL = 'https://www.facebook.com/pg/set.or.th/posts/'\n",
    "URL = 'https://www.facebook.com/SCGofficialpage/'\n"
   ]
  },
  {
   "cell_type": "code",
   "execution_count": 4,
   "metadata": {},
   "outputs": [
    {
     "output_type": "stream",
     "name": "stderr",
     "text": [
      "100%|██████████| 2/2 [00:20<00:00, 10.21s/it]\n",
      "100%|██████████| 2/2 [00:20<00:00, 10.30s/it]\n"
     ]
    }
   ],
   "source": [
    "for i in range(2):\n",
    "    window.scrape(filename='scgtest.json', scroll=2)"
   ]
  },
  {
   "cell_type": "code",
   "execution_count": null,
   "metadata": {},
   "outputs": [],
   "source": []
  },
  {
   "source": [
    "# mobile FB test"
   ],
   "cell_type": "markdown",
   "metadata": {}
  },
  {
   "cell_type": "code",
   "execution_count": 6,
   "metadata": {},
   "outputs": [],
   "source": [
    "URL = 'https://m.facebook.com/AIS/posts'\n",
    "window = WindowNoLogin(url=URL, headless=False, browser='firefox')"
   ]
  },
  {
   "cell_type": "code",
   "execution_count": 8,
   "metadata": {},
   "outputs": [
    {
     "output_type": "stream",
     "name": "stdout",
     "text": [
      "เอไอเอส พอยท์ แลกล้านความสุข ฉลองต้อนรับปีใหม่!!\n<br/>\n ลูกค้าเอไอเอส ใช้พอยท์กับทุกเรื่องที่ชอบ หลากหลายความพิเศษ เช็กพอยท์ แล้วใช้เลย! ที่แอปmyAIS คลิกเลย! \n<a data-sigil=\"MLynx_asynclazy\" href=\"https://lm.facebook.com/l.php?u=https%3A%2F%2Fm.ais.co.th%2FQYH0nPQTx&amp;h=AT1lDvfMtNrExheOA4ep6r-2CV9REa9OTpDkoA4DRpEnUjkOcQcfSYdemN_bYfUL8BOcOAD9P3WP7IpJ-j6xqrqHVr0x2bnomcNg7k9Q0Lu7YOhJonHVj34M7tYkIegIAx76AE4ba7rxM1sQQLFok6b31rFWFlmszGzv37P_zwtQ\" rel=\"noopener\" target=\"_blank\">https://m.ais.co.th/QYH0nPQTx</a>\n \n<br/>\n ·\n<span class=\"text_exposed_hide\">… <span data-sigil=\"more\"><a href=\"/story.php?story_fbid=10159692559016554&amp;id=127434041553\">เพิ่มเติม</a></span></span>\n<span class=\"text_exposed_show\"> แลกสิทธิ์ลุ้นสร้อยคอทองคำหนัก 2 บาท 100 รางวัล!! <br/> · แลกสติกเกอร์ไลน์ 5 ลายใหม่ สุดฮิต!!<br/> · แลกความหวาน รับปีใหม่ที่ After you ทุกสาขาที่ร่วมรายการ<br/> · แลกความอร่อย ที่ฟู้ดคอร์ท Central และ The mall ที่ร่วมรายการทั่วประเทศ<br/> =============<br/> • สมัครสะสมหรือเช็กคะแนน กด*550#โทรออกฟรี<br/> • สมัครครั้งแรกรับทันที 10 คะแนน</span>\n \n<a class=\"_5ayv _qdx\" href=\"/hashtag/ais5g?__tn__=%2As-R\"><span class=\"_5aw4 _qdz\">#</span><span class=\"_5ayu\">AIS5G</span></a>\n \n<a class=\"_5ayv _qdx\" href=\"/hashtag/aisprivileges?__tn__=%2As-R\"><span class=\"_5aw4 _qdz\">#</span><span class=\"_5ayu\">AISPrivileges</span></a>\n \n<a class=\"_5ayv _qdx\" href=\"/hashtag/aispoints?__tn__=%2As-R\"><span class=\"_5aw4 _qdz\">#</span><span class=\"_5ayu\">AISPoints</span></a>\n \n<a class=\"_5ayv _qdx\" href=\"/hashtag/เอไอเอสพอยท์?__tn__=%2As-R\"><span class=\"_5aw4 _qdz\">#</span><span class=\"_5ayu\">เอไอเอสพอยท์</span></a>\n \n<a class=\"_5ayv _qdx\" href=\"/hashtag/เอไอเอสพอยท์แลกล้านความสุข?__tn__=%2As-R\"><span class=\"_5aw4 _qdz\">#</span><span class=\"_5ayu\">เอไอเอสพอยท์แลกล้านความสุข</span></a>\n \n<a class=\"_5ayv _qdx\" href=\"/hashtag/ใช้พอยท์กับทุกเรื่องที่ชอบ?__tn__=%2As-R\"><span class=\"_5aw4 _qdz\">#</span><span class=\"_5ayu\">ใช้พอยท์กับทุกเรื่องที่ชอบ</span></a>\n \n<a class=\"_5ayv _qdx\" href=\"/hashtag/aispointsเช็กพอยท์ใช้เลย?__tn__=%2As-R\"><span class=\"_5aw4 _qdz\">#</span><span class=\"_5ayu\">AISPointsเช็กพอยท์ใช้เลย</span></a>\n \n<a class=\"_5ayv _qdx\" href=\"/hashtag/ที่แอปmyais?__tn__=%2As-R\"><span class=\"_5aw4 _qdz\">#</span><span class=\"_5ayu\">ที่แอปmyAIS</span></a>\n"
     ]
    }
   ],
   "source": [
    "elem = window.driver.find_elements_by_css_selector('article')[5]\n",
    "soup = bs4.BeautifulSoup(elem.get_attribute('innerHTML'))\n",
    "for p in soup.find_all('p'):\n",
    "    for elem in p.children:\n",
    "        print(elem)"
   ]
  },
  {
   "cell_type": "code",
   "execution_count": 9,
   "metadata": {},
   "outputs": [],
   "source": [
    "def get_article(soup):\n",
    "    article = ''\n",
    "    hashtags = []\n",
    "    for p in soup.find_all('p'):\n",
    "        for elem in p.children:\n",
    "            if type(elem) == bs4.element.NavigableString:\n",
    "                article += elem\n",
    "            elif elem.name == 'br':\n",
    "                article += '\\n'\n",
    "            elif elem.name == 'a':\n",
    "                if ['_5ayv','_qdx'] == elem.attrs.get('class',[]):\n",
    "                    hashtags.append(elem.text)\n",
    "                else:\n",
    "                    article += elem.text\n",
    "            elif elem.name == 'span':\n",
    "                if 'text_exposed_hide' in elem.attrs.get('class', []):\n",
    "                    continue\n",
    "                elif 'text_exposed_show' in elem.attrs.get('class', []):\n",
    "                    for e in elem:\n",
    "                        if type(e) == bs4.element.NavigableString:\n",
    "                            article += e.lstrip()\n",
    "                        elif e.name == 'br':\n",
    "                            article += '\\n'\n",
    "                        elif e.name == 'a':\n",
    "                            if ['_5ayv','_qdx'] == e.attrs.get('class',[]):\n",
    "                                hashtags.append(e.text)\n",
    "                            else:\n",
    "                                article += e.text\n",
    "                else: # e.g. emoji\n",
    "                    try:\n",
    "                        article += elem.text\n",
    "                    except:\n",
    "                        pass\n",
    "        article += '\\n\\n'\n",
    "        article = re.sub('\\n +', '\\n', article).strip()\n",
    "    return article, hashtags"
   ]
  },
  {
   "cell_type": "code",
   "execution_count": 10,
   "metadata": {},
   "outputs": [],
   "source": [
    "def get_images(soup):\n",
    "    images = []\n",
    "    try: \n",
    "        img_div = soup.select_one('._5rgu._7dc9._27x0')\n",
    "        for img in img_div.select('img'):\n",
    "            images.append(img.get('src'))\n",
    "    except:\n",
    "        pass\n",
    "    return images"
   ]
  },
  {
   "cell_type": "code",
   "execution_count": 27,
   "metadata": {},
   "outputs": [],
   "source": [
    "def get_video(soup):\n",
    "    try: \n",
    "        img_div = soup.select_one('._5rgu._7dc9._27x0')\n",
    "        video_div = img_div.select_one('div[data-sigil=\"inlineVideo\"]')\n",
    "        return re.search(r'src\":\"(.+?)\"', video_div.get('data-store')).group(1)\n",
    "    except:\n",
    "        return None"
   ]
  },
  {
   "cell_type": "code",
   "execution_count": 39,
   "metadata": {},
   "outputs": [],
   "source": [
    "def get_reaction(soup):\n",
    "    footer = str(soup.find('footer'))\n",
    "    try:\n",
    "        like = re.search(r'(?:ถูกใจ )?(\\d+) (?:คน|Like)', footer).group(1)\n",
    "    except:\n",
    "        like = 0\n",
    "    try:\n",
    "        comment = re.search(r'(?:ความคิดเห็น )?(\\d+) (?:รายการ|comment)', footer).group(1)\n",
    "    except:\n",
    "        comment = 0\n",
    "    try:\n",
    "        share = re.search(r'(?:แชร์ )?(\\d+) (?:ครั้ง|share)', footer).group(1)\n",
    "    except:\n",
    "        share = 0\n",
    "    return like, comment, share\n"
   ]
  },
  {
   "cell_type": "code",
   "execution_count": 40,
   "metadata": {},
   "outputs": [
    {
     "output_type": "stream",
     "name": "stdout",
     "text": [
      "('💼  ชาวออฟฟิศอย่างเรา ๆ หลังก็ปวด งานก็ต้องทำ จะมีอะไรช่วยได้บ้างมั้ยนะ?\\n.\\nจุ๊ ๆ อย่าเสียงดังไป 🤫  วันนี้แอดมีไอเทมเด็ดช่วยเสริมดวงให้ชาวออฟฟิศมาฝากนั่นก็คือ “เบอร์เสริมชีวิต สุขภาพดี งานเด่น”ช่วยอัปดวงแบบก้าวกระโดดให้งานรุ่ง ชีวิตราบรื่น เจ้านายรัก เจ้านายหลง แถมได้สุขภาพดี ไร้โรคภัยไข้เจ็บ \\n.\\nดีแบบนี้ อย่าลืมมาเปลี่ยนเบอร์กันนะคร้าบ \\nคลิก https://m.ais.co.th/DeHrGoAU8\\n.', ['#AIS5G'])\n"
     ]
    }
   ],
   "source": [
    "elem = window.driver.find_elements_by_css_selector('article')[12]\n",
    "soup = bs4.BeautifulSoup(elem.get_attribute('innerHTML'))\n",
    "print(get_article(soup))"
   ]
  },
  {
   "cell_type": "code",
   "execution_count": 41,
   "metadata": {},
   "outputs": [
    {
     "output_type": "execute_result",
     "data": {
      "text/plain": [
       "('56', '5', '2')"
      ]
     },
     "metadata": {},
     "execution_count": 41
    }
   ],
   "source": [
    "footer = str(soup.find('footer'))\n",
    "get_reaction(soup)"
   ]
  },
  {
   "cell_type": "code",
   "execution_count": 35,
   "metadata": {},
   "outputs": [
    {
     "output_type": "execute_result",
     "data": {
      "text/plain": [
       "'<footer class=\"_22rc\" data-ft=\\'{\"tn\":\"*W\"}\\'><div class=\"_2ip_ _4b44\" data-sigil=\"mufi-inline\" id=\"feedback_inline_10159682880921554\"><div class=\"_2og4 slimLike _15kj _34qc _4b45\" id=\"counts_feedback_inline_10159682880921554\"><a data-sigil=\"feed-ufi-trigger\" href=\"/story.php?story_fbid=10159682880921554&amp;id=127434041553&amp;__tn__=%2AW-R\"><span class=\"_28-d\" id=\"u_6_d\"><span class=\"like_def _28wy\">ถูกใจ 56 คน</span><span class=\"cmt_def _28wy\">ความคิดเห็น 5 รายการ</span></span><span class=\"_28wy\">แชร์ 2 ครั้ง</span></a></div><div class=\"_52jh _5909 _15kk _15ks _4b47\" data-sigil=\"ufi-inline-actions\"><div class=\"_7om2\"><div class=\"_52jj _15kl _4g34\"><a class=\"_15kr _77li\" data-click=\\'{\"event\":\"click_share_ufi\",\"target_id\":\"226547524203272:10159682880926554\"}\\' data-ft=\\'{\"tn\":\"J\"}\\' data-sigil=\"share-popup\" data-store=\\'{\"is_acting_as_page\":false,\"reshare_post\":true,\"share_id\":\"10159682880926554\",\"feedback_source\":0,\"feedback_referrer\":null,\"internal_preview_image_id\":null,\"shareable_uri\":\"https:\\\\/\\\\/lm.facebook.com\\\\/l.php?u=https\\\\u00253A\\\\u00252F\\\\u00252Fm.ais.co.th\\\\u00252FDeHrGoAU8&amp;h=AT2zBxL-PJJMf3iB4RAWtN4ej1sacNTIQda8eosVUgas4KWYT4dJ120F6tvMiWnEJHqOpN_nadqwx5-W_uGxF5vyiJ1SScl4IpJZpMNE2mD0a8l9eMF_vuI_w2aNKgoaAOwv7YNhi0kYQ4ZUEnI4CUre8Lo&amp;s=1\",\"user_id\":0,\"behavior\":\"custom\"}\\' href=\"/sharer.php?u=https%3A%2F%2Fm.facebook.com%2Fpage_content_list_view%2Fmore%2F%3Fpage_id%3D127434041553%26start_cursor%3D%257B%2522timeline_cursor%2522%253A%2522AQHR49Qk30vugxLC6EucHksB87yq6ztiOY23n-rHNWbwnAI_JZunar5KY5gyf_rMOzsdL1qQyufPLkioXxc5ce8kt2SUeJOA6yTTPL3kO3BwrjpB7kSURZjp0_KptC7YuX47%2522%252C%2522timeline_section_cursor%2522%253Anull%252C%2522has_next_page%2522%253Atrue%257D%26num_to_fetch%3D4%26surface_type%3Dposts_tab&amp;fs=0&amp;sid=10159682880926554&amp;__tn__=J%2AW-R\">แชร์</a></div></div></div></div></footer>'"
      ]
     },
     "metadata": {},
     "execution_count": 35
    }
   ],
   "source": [
    "footer"
   ]
  },
  {
   "cell_type": "code",
   "execution_count": null,
   "metadata": {},
   "outputs": [],
   "source": []
  },
  {
   "source": [
    "# mobile FB"
   ],
   "cell_type": "markdown",
   "metadata": {}
  },
  {
   "cell_type": "code",
   "execution_count": 1,
   "metadata": {},
   "outputs": [],
   "source": [
    "from ScrapeFBMobile import *\n",
    "import pandas as pd\n",
    "import selenium\n",
    "import bs4, time, re, json, datetime"
   ]
  },
  {
   "cell_type": "code",
   "execution_count": 2,
   "metadata": {},
   "outputs": [],
   "source": [
    "URL = 'https://m.facebook.com/AIS/posts'\n",
    "window = Window(url=URL, headless=False, browser='firefox')"
   ]
  },
  {
   "cell_type": "code",
   "execution_count": 6,
   "metadata": {},
   "outputs": [
    {
     "output_type": "stream",
     "name": "stderr",
     "text": [
      "100%|██████████| 5/5 [00:06<00:00,  1.27s/it]\n",
      "100%|██████████| 5/5 [00:05<00:00,  1.13s/it]\n"
     ]
    }
   ],
   "source": [
    "for i in range(2):\n",
    "    try:\n",
    "        window.scrape(filename='aisFB.json', scroll=5)\n",
    "    except Exception as e:\n",
    "        print(e)\n",
    "    time.sleep(5)"
   ]
  },
  {
   "cell_type": "code",
   "execution_count": 5,
   "metadata": {},
   "outputs": [],
   "source": [
    "window.write('aisFB.json')"
   ]
  },
  {
   "cell_type": "code",
   "execution_count": null,
   "metadata": {},
   "outputs": [],
   "source": []
  },
  {
   "source": [
    "# scroll manually"
   ],
   "cell_type": "markdown",
   "metadata": {}
  },
  {
   "cell_type": "code",
   "execution_count": 22,
   "metadata": {},
   "outputs": [],
   "source": [
    "window.append_data()"
   ]
  },
  {
   "cell_type": "code",
   "execution_count": 23,
   "metadata": {},
   "outputs": [],
   "source": [
    "window.delete_elements()"
   ]
  },
  {
   "cell_type": "code",
   "execution_count": 24,
   "metadata": {},
   "outputs": [],
   "source": [
    "window.write(savefile)"
   ]
  },
  {
   "source": [
    "# test"
   ],
   "cell_type": "markdown",
   "metadata": {}
  },
  {
   "cell_type": "code",
   "execution_count": 83,
   "metadata": {},
   "outputs": [],
   "source": [
    "elem = window.driver.find_elements_by_css_selector('.du4w35lb.k4urcfbm.l9j0dhe7.sjgh65i0')[1]\n",
    "raw_html = elem.get_attribute('innerHTML') # get html content of element\n",
    "soup = BeautifulSoup(raw_html, features='html.parser') "
   ]
  },
  {
   "cell_type": "code",
   "execution_count": 93,
   "metadata": {},
   "outputs": [
    {
     "output_type": "stream",
     "name": "stdout",
     "text": [
      "--------------------------------------------------\nไม่ว่าใคร ก็ช่วยลดโลกร้อนได้ ! <class 'bs4.element.NavigableString'> \n\n. <class 'bs4.element.NavigableString'> \n\nวันนี้จะพาเพื่อน ๆ ไปดู 8 วิธีลดโลกร้อน ของทัพนักกีฬาระดับโลก ที่รับรองว่าเพื่อน ๆ สามารถนำไปปรับใช้ทำตามได้แน่นอนครับ ! <class 'bs4.element.NavigableString'> \n\n. <class 'bs4.element.NavigableString'> \n\nชอบไอเดียลดโลกร้อนแบบไหน อย่าลืม!! มาชาเลนจ์กันได้ที่  <class 'bs4.element.NavigableString'> \n\nTikTok Challenge #ลดโลกร้อนเริ่มที่เรา  <class 'bs4.element.NavigableString'> \n\nลุ้นรับ iPad Air และกระเป๋าถุงปูน “คิด-จาก-ถุง”  <class 'bs4.element.NavigableString'> \n\nคลิก ! :  <class 'bs4.element.NavigableString'> \n\n<span><a class=\"oajrlxb2 g5ia77u1 qu0x051f esr5mh6w e9989ue4 r7d6kgcz rq0escxv nhd2j8a9 nc684nl6 p7hjln8o kvgmc6g5 cxmmr5t8 oygrvhab hcukyx3x jb3vyjys rz4wbd8a qt6c0cv9 a8nywdso i1ao9s8h esuyzwwr f1sip0of lzcic4wl py34i1dx gpro0wi8\" href=\"https://l.facebook.com/l.php?u=https%3A%2F%2Fvt.tiktok.com%2FZSqaYd3k%2F%3Ffbclid%3DIwAR0-6KnQvPKH1kx-mkuKS9zNavkkoUUf_b5KgQJIoijSWOIeMcbCw3gEWdg&amp;h=AT2GDg5fAV8RpnB0zVkySs-E6KjSwdqoG4UdwWzOQ1SI-XSqeLwxGy8nfN4WQnTPZWvwp-WcP5iUJ27KZTrJ-7NCZcFqxHbYDrpOVIDzKhLmbbfGNIOHI9JwxDOq&amp;__tn__=-UK-R&amp;c[0]=AT101hZ5dz1S7Pz6NbGkdEbjncOks2-K9wP04LzlJ2ewFS2uPypDrRRRgyOhPiOynSSF5Q5kYCn48X3-Oe_wf_ZVq_KFBiuo1lwvCupGvpwZjv8quE9hCY0ESvIqwvTaZ8zKapvYZtUne2m3Tw_TfDfEjQq94GegDMTfS2OCAvewLVI\" rel=\"nofollow noopener\" role=\"link\" tabindex=\"0\" target=\"_blank\">https://vt.tiktok.com/ZSqaYd3k/</a></span> <class 'bs4.element.Tag'> \n\n. <class 'bs4.element.NavigableString'> \n\nมาร่วมหาวิธีลดโลกร้อนเพิ่มเติม  <class 'bs4.element.NavigableString'> \n\nคลิก ! :  <class 'bs4.element.NavigableString'> \n\n<span><a class=\"oajrlxb2 g5ia77u1 qu0x051f esr5mh6w e9989ue4 r7d6kgcz rq0escxv nhd2j8a9 nc684nl6 p7hjln8o kvgmc6g5 cxmmr5t8 oygrvhab hcukyx3x jb3vyjys rz4wbd8a qt6c0cv9 a8nywdso i1ao9s8h esuyzwwr f1sip0of lzcic4wl py34i1dx gpro0wi8\" href=\"https://l.facebook.com/l.php?u=https%3A%2F%2Fbit.ly%2FFBSCGCES441%3Ffbclid%3DIwAR0-6KnQvPKH1kx-mkuKS9zNavkkoUUf_b5KgQJIoijSWOIeMcbCw3gEWdg&amp;h=AT1qEk8-MQg8u2KCigp2edn01kjvAfrSH6-2DvQ3KXhGEawYGXa3ogKVWJxRNbnKK8Khp8pKds-pXQEs3kFct-QsB6k2bf9aNRGfaTf9PwvjqjgBSF1rF902Rh6V&amp;__tn__=-UK-R&amp;c[0]=AT101hZ5dz1S7Pz6NbGkdEbjncOks2-K9wP04LzlJ2ewFS2uPypDrRRRgyOhPiOynSSF5Q5kYCn48X3-Oe_wf_ZVq_KFBiuo1lwvCupGvpwZjv8quE9hCY0ESvIqwvTaZ8zKapvYZtUne2m3Tw_TfDfEjQq94GegDMTfS2OCAvewLVI\" rel=\"nofollow noopener\" role=\"link\" tabindex=\"0\" target=\"_blank\">http://bit.ly/FBSCGCES441</a></span> <class 'bs4.element.Tag'> \n\n. <class 'bs4.element.NavigableString'> \n\n<span><a class=\"oajrlxb2 g5ia77u1 qu0x051f esr5mh6w e9989ue4 r7d6kgcz rq0escxv nhd2j8a9 nc684nl6 p7hjln8o kvgmc6g5 cxmmr5t8 oygrvhab hcukyx3x jb3vyjys rz4wbd8a qt6c0cv9 a8nywdso i1ao9s8h esuyzwwr f1sip0of lzcic4wl q66pz984 gpro0wi8 b1v8xokw\" href=\"https://www.facebook.com/hashtag/%E0%B8%A5%E0%B8%94%E0%B9%82%E0%B8%A5%E0%B8%81%E0%B8%A3%E0%B9%89%E0%B8%AD%E0%B8%99%E0%B9%80%E0%B8%A3%E0%B8%B4%E0%B9%88%E0%B8%A1%E0%B8%97%E0%B8%B5%E0%B9%88%E0%B9%80%E0%B8%A3%E0%B8%B2?__eep__=6&amp;__cft__[0]=AZXeLmO-p_xnTDVqL9bsnPHdVqZoXiYLvhgQGOoG9zIG3Q9pVf4MMYRH--qvUDoMh1-2NNEdJh5_QrjqpufKBgg3gXicPUmlVs5b4-6CXdZeo-DKwF1d47fxpW9dPzjLDB5ieiyOb6sTLU-19c3QblHt&amp;__tn__=*NK-R\" role=\"link\" tabindex=\"0\">#ลดโลกร้อนเริ่มที่เรา</a></span> <class 'bs4.element.Tag'> \n\n  <class 'bs4.element.NavigableString'> \n\n<span><a class=\"oajrlxb2 g5ia77u1 qu0x051f esr5mh6w e9989ue4 r7d6kgcz rq0escxv nhd2j8a9 nc684nl6 p7hjln8o kvgmc6g5 cxmmr5t8 oygrvhab hcukyx3x jb3vyjys rz4wbd8a qt6c0cv9 a8nywdso i1ao9s8h esuyzwwr f1sip0of lzcic4wl q66pz984 gpro0wi8 b1v8xokw\" href=\"https://www.facebook.com/hashtag/scg?__eep__=6&amp;__cft__[0]=AZXeLmO-p_xnTDVqL9bsnPHdVqZoXiYLvhgQGOoG9zIG3Q9pVf4MMYRH--qvUDoMh1-2NNEdJh5_QrjqpufKBgg3gXicPUmlVs5b4-6CXdZeo-DKwF1d47fxpW9dPzjLDB5ieiyOb6sTLU-19c3QblHt&amp;__tn__=*NK-R\" role=\"link\" tabindex=\"0\">#SCG</a></span> <class 'bs4.element.Tag'> \n\n  <class 'bs4.element.NavigableString'> \n\n<span><a class=\"oajrlxb2 g5ia77u1 qu0x051f esr5mh6w e9989ue4 r7d6kgcz rq0escxv nhd2j8a9 nc684nl6 p7hjln8o kvgmc6g5 cxmmr5t8 oygrvhab hcukyx3x jb3vyjys rz4wbd8a qt6c0cv9 a8nywdso i1ao9s8h esuyzwwr f1sip0of lzcic4wl q66pz984 gpro0wi8 b1v8xokw\" href=\"https://www.facebook.com/hashtag/climateemergency?__eep__=6&amp;__cft__[0]=AZXeLmO-p_xnTDVqL9bsnPHdVqZoXiYLvhgQGOoG9zIG3Q9pVf4MMYRH--qvUDoMh1-2NNEdJh5_QrjqpufKBgg3gXicPUmlVs5b4-6CXdZeo-DKwF1d47fxpW9dPzjLDB5ieiyOb6sTLU-19c3QblHt&amp;__tn__=*NK-R\" role=\"link\" tabindex=\"0\">#ClimateEmergency</a></span> <class 'bs4.element.Tag'> \n\n"
     ]
    }
   ],
   "source": [
    "for paragraph in soup.select('.cxmmr5t8.oygrvhab.hcukyx3x.c1et5uql.ii04i59q'):\n",
    "    print('-'*50)\n",
    "    for div in paragraph.select('div'):\n",
    "        for child in div.children:\n",
    "            print(child, type(child),'\\n')"
   ]
  },
  {
   "cell_type": "code",
   "execution_count": 95,
   "metadata": {},
   "outputs": [
    {
     "output_type": "stream",
     "name": "stdout",
     "text": [
      "\nไม่ว่าใคร ก็ช่วยลดโลกร้อนได้ !\n.\nวันนี้จะพาเพื่อน ๆ ไปดู 8 วิธีลดโลกร้อน ของทัพนักกีฬาระดับโลก ที่รับรองว่าเพื่อน ๆ สามารถนำไปปรับใช้ทำตามได้แน่นอนครับ !\n.\nชอบไอเดียลดโลกร้อนแบบไหน อย่าลืม!! มาชาเลนจ์กันได้ที่ \nTikTok Challenge #ลดโลกร้อนเริ่มที่เรา \nลุ้นรับ iPad Air และกระเป๋าถุงปูน “คิด-จาก-ถุง” \nคลิก ! : https://vt.tiktok.com/ZSqaYd3k/\n.\nมาร่วมหาวิธีลดโลกร้อนเพิ่มเติม \nคลิก ! : http://bit.ly/FBSCGCES441\n.\n \n \n['#ลดโลกร้อนเริ่มที่เรา', '#SCG', '#ClimateEmergency']\n"
     ]
    }
   ],
   "source": [
    "article = []\n",
    "hashtags = []\n",
    "for paragraph in soup.select('.cxmmr5t8.oygrvhab.hcukyx3x.c1et5uql.ii04i59q'):\n",
    "    text_in_paragraph = ''\n",
    "    for div in paragraph.select('div'):\n",
    "        for child in div.children:\n",
    "            if type(child) == bs4.element.NavigableString:\n",
    "                text_in_paragraph += '\\n' + child\n",
    "            elif type(child) == bs4.element.Tag:\n",
    "                inner_text = child.text.strip()\n",
    "                if inner_text != '': # hashtag or link\n",
    "                    if inner_text.startswith('#'): # hashtag\n",
    "                        hashtags.append(inner_text)\n",
    "                    else: # link\n",
    "                        text_in_paragraph += inner_text\n",
    "                else:\n",
    "                    emoji = re.search(r'<img alt=\"(.+?)\".+/?>', str(child))\n",
    "                    if emoji:\n",
    "                        text_in_paragraph += emoji.group(1)\n",
    "    article.append(text_in_paragraph)\n",
    "print('\\n\\n'.join(article))\n",
    "print(hashtags)"
   ]
  },
  {
   "source": [
    "# check file"
   ],
   "cell_type": "markdown",
   "metadata": {}
  },
  {
   "cell_type": "code",
   "execution_count": 13,
   "metadata": {},
   "outputs": [
    {
     "output_type": "execute_result",
     "data": {
      "text/plain": [
       "                    date                                            article  \\\n",
       "0    2020-09-14 03:00:00  หากยังรู้สึกว่า \"อากาศร้อนขึ้นทุกปี\" โลกร้อน ก...   \n",
       "1    2020-12-02 02:07:00  อดทน รับผิดชอบ มีวินัย 3 แนวทางที่เราช่วยกันได...   \n",
       "2    2020-12-02 00:52:00  เวลาพูดถึงการใช้ชีวิตที่ 'เป็นมิตรกับสิ่งแวดล้...   \n",
       "3    2020-12-01 19:00:00  ลดโลกร้อนไม่ใช่เรื่องไกลตัว สามารถทำได้หลายวิธ...   \n",
       "4    2020-12-01 04:30:00  อัปเดต Highlight เรื่องราวสำคัญเดือนพฤศจิกายน ...   \n",
       "...                  ...                                                ...   \n",
       "2881 2016-02-09 03:55:00  ยังมีเวลาสำหรับเพื่อนๆน้องๆ ที่อยากร่วมเป็นส่ว...   \n",
       "2882 2016-02-04 01:56:00  เพื่อนๆหลายคนน่าจะชอบปั่นจักรยานกันไม่ว่าจะไปท...   \n",
       "2883 2016-02-01 03:18:00  สำหรับพ่อแม่ที่ต้องการทำกิจกรรมแต่ต้องดูแลลูกน...   \n",
       "2884 2016-01-29 03:33:00  เอสซีจีแถลงผลประกอบการปี 2558 เดินหน้าลงทุนต่อ...   \n",
       "2885 2016-01-28 00:58:00  ต่อไปแม้แต่การเล่นอินเตอร์เนตก็จะกลายเป็นเรื่อ...   \n",
       "\n",
       "                                            url  \\\n",
       "0     https://www.facebook.com/3978014498881647   \n",
       "1     https://www.facebook.com/4224292444253850   \n",
       "2     https://www.facebook.com/4224165540933207   \n",
       "3     https://www.facebook.com/4163090247040737   \n",
       "4     https://www.facebook.com/4221510804532014   \n",
       "...                                         ...   \n",
       "2881  https://www.facebook.com/1268282656521525   \n",
       "2882  https://www.facebook.com/1265195363496921   \n",
       "2883  https://www.facebook.com/1263363030346821   \n",
       "2884  https://www.facebook.com/1261482087201582   \n",
       "2885  https://www.facebook.com/1260764347273356   \n",
       "\n",
       "                                                emotion  comment  share  \\\n",
       "0     {'like': 139, 'love': 5, 'care': 2, 'haha': 0,...       11     50   \n",
       "1     {'like': 14, 'love': 0, 'care': 0, 'haha': 0, ...        0      1   \n",
       "2     {'like': 27, 'love': 0, 'care': 0, 'haha': 0, ...        0      2   \n",
       "3     {'like': 54, 'love': 0, 'care': 0, 'haha': 0, ...        0      3   \n",
       "4     {'like': 114, 'love': 4, 'care': 0, 'haha': 0,...        2      6   \n",
       "...                                                 ...      ...    ...   \n",
       "2881  {'like': 83, 'love': 0, 'care': 0, 'haha': 0, ...        0      5   \n",
       "2882  {'like': 47, 'love': 0, 'care': 0, 'haha': 0, ...        0      3   \n",
       "2883  {'like': 53, 'love': 0, 'care': 0, 'haha': 0, ...        0      2   \n",
       "2884  {'like': 294, 'love': 0, 'care': 0, 'haha': 0,...        0     12   \n",
       "2885  {'like': 34, 'love': 0, 'care': 0, 'haha': 0, ...        0      2   \n",
       "\n",
       "                                               hashtags  \n",
       "0                           [ลดโลกร้อนเริ่มที่เรา, SCG]  \n",
       "1                                                    []  \n",
       "2     [SCG, SDSymposium2020, ร่วมมือเพื่อโลก, Tansir...  \n",
       "3     [ลดโลกร้อนเริ่มที่เรา, SCG, ClimateEmergency, ...  \n",
       "4                                                    []  \n",
       "...                                                 ...  \n",
       "2881                                                 []  \n",
       "2882                                                 []  \n",
       "2883                                                 []  \n",
       "2884                                                 []  \n",
       "2885                                                 []  \n",
       "\n",
       "[1914 rows x 7 columns]"
      ],
      "text/html": "<div>\n<style scoped>\n    .dataframe tbody tr th:only-of-type {\n        vertical-align: middle;\n    }\n\n    .dataframe tbody tr th {\n        vertical-align: top;\n    }\n\n    .dataframe thead th {\n        text-align: right;\n    }\n</style>\n<table border=\"1\" class=\"dataframe\">\n  <thead>\n    <tr style=\"text-align: right;\">\n      <th></th>\n      <th>date</th>\n      <th>article</th>\n      <th>url</th>\n      <th>emotion</th>\n      <th>comment</th>\n      <th>share</th>\n      <th>hashtags</th>\n    </tr>\n  </thead>\n  <tbody>\n    <tr>\n      <th>0</th>\n      <td>2020-09-14 03:00:00</td>\n      <td>หากยังรู้สึกว่า \"อากาศร้อนขึ้นทุกปี\" โลกร้อน ก...</td>\n      <td>https://www.facebook.com/3978014498881647</td>\n      <td>{'like': 139, 'love': 5, 'care': 2, 'haha': 0,...</td>\n      <td>11</td>\n      <td>50</td>\n      <td>[ลดโลกร้อนเริ่มที่เรา, SCG]</td>\n    </tr>\n    <tr>\n      <th>1</th>\n      <td>2020-12-02 02:07:00</td>\n      <td>อดทน รับผิดชอบ มีวินัย 3 แนวทางที่เราช่วยกันได...</td>\n      <td>https://www.facebook.com/4224292444253850</td>\n      <td>{'like': 14, 'love': 0, 'care': 0, 'haha': 0, ...</td>\n      <td>0</td>\n      <td>1</td>\n      <td>[]</td>\n    </tr>\n    <tr>\n      <th>2</th>\n      <td>2020-12-02 00:52:00</td>\n      <td>เวลาพูดถึงการใช้ชีวิตที่ 'เป็นมิตรกับสิ่งแวดล้...</td>\n      <td>https://www.facebook.com/4224165540933207</td>\n      <td>{'like': 27, 'love': 0, 'care': 0, 'haha': 0, ...</td>\n      <td>0</td>\n      <td>2</td>\n      <td>[SCG, SDSymposium2020, ร่วมมือเพื่อโลก, Tansir...</td>\n    </tr>\n    <tr>\n      <th>3</th>\n      <td>2020-12-01 19:00:00</td>\n      <td>ลดโลกร้อนไม่ใช่เรื่องไกลตัว สามารถทำได้หลายวิธ...</td>\n      <td>https://www.facebook.com/4163090247040737</td>\n      <td>{'like': 54, 'love': 0, 'care': 0, 'haha': 0, ...</td>\n      <td>0</td>\n      <td>3</td>\n      <td>[ลดโลกร้อนเริ่มที่เรา, SCG, ClimateEmergency, ...</td>\n    </tr>\n    <tr>\n      <th>4</th>\n      <td>2020-12-01 04:30:00</td>\n      <td>อัปเดต Highlight เรื่องราวสำคัญเดือนพฤศจิกายน ...</td>\n      <td>https://www.facebook.com/4221510804532014</td>\n      <td>{'like': 114, 'love': 4, 'care': 0, 'haha': 0,...</td>\n      <td>2</td>\n      <td>6</td>\n      <td>[]</td>\n    </tr>\n    <tr>\n      <th>...</th>\n      <td>...</td>\n      <td>...</td>\n      <td>...</td>\n      <td>...</td>\n      <td>...</td>\n      <td>...</td>\n      <td>...</td>\n    </tr>\n    <tr>\n      <th>2881</th>\n      <td>2016-02-09 03:55:00</td>\n      <td>ยังมีเวลาสำหรับเพื่อนๆน้องๆ ที่อยากร่วมเป็นส่ว...</td>\n      <td>https://www.facebook.com/1268282656521525</td>\n      <td>{'like': 83, 'love': 0, 'care': 0, 'haha': 0, ...</td>\n      <td>0</td>\n      <td>5</td>\n      <td>[]</td>\n    </tr>\n    <tr>\n      <th>2882</th>\n      <td>2016-02-04 01:56:00</td>\n      <td>เพื่อนๆหลายคนน่าจะชอบปั่นจักรยานกันไม่ว่าจะไปท...</td>\n      <td>https://www.facebook.com/1265195363496921</td>\n      <td>{'like': 47, 'love': 0, 'care': 0, 'haha': 0, ...</td>\n      <td>0</td>\n      <td>3</td>\n      <td>[]</td>\n    </tr>\n    <tr>\n      <th>2883</th>\n      <td>2016-02-01 03:18:00</td>\n      <td>สำหรับพ่อแม่ที่ต้องการทำกิจกรรมแต่ต้องดูแลลูกน...</td>\n      <td>https://www.facebook.com/1263363030346821</td>\n      <td>{'like': 53, 'love': 0, 'care': 0, 'haha': 0, ...</td>\n      <td>0</td>\n      <td>2</td>\n      <td>[]</td>\n    </tr>\n    <tr>\n      <th>2884</th>\n      <td>2016-01-29 03:33:00</td>\n      <td>เอสซีจีแถลงผลประกอบการปี 2558 เดินหน้าลงทุนต่อ...</td>\n      <td>https://www.facebook.com/1261482087201582</td>\n      <td>{'like': 294, 'love': 0, 'care': 0, 'haha': 0,...</td>\n      <td>0</td>\n      <td>12</td>\n      <td>[]</td>\n    </tr>\n    <tr>\n      <th>2885</th>\n      <td>2016-01-28 00:58:00</td>\n      <td>ต่อไปแม้แต่การเล่นอินเตอร์เนตก็จะกลายเป็นเรื่อ...</td>\n      <td>https://www.facebook.com/1260764347273356</td>\n      <td>{'like': 34, 'love': 0, 'care': 0, 'haha': 0, ...</td>\n      <td>0</td>\n      <td>2</td>\n      <td>[]</td>\n    </tr>\n  </tbody>\n</table>\n<p>1914 rows × 7 columns</p>\n</div>"
     },
     "metadata": {},
     "execution_count": 13
    }
   ],
   "source": [
    "pd.read_json(savefile).drop_duplicates('url')\n",
    "#pd.read_json(savefile)"
   ]
  },
  {
   "cell_type": "code",
   "execution_count": null,
   "metadata": {},
   "outputs": [],
   "source": []
  },
  {
   "cell_type": "code",
   "execution_count": null,
   "metadata": {},
   "outputs": [],
   "source": []
  }
 ],
 "metadata": {
  "kernelspec": {
   "name": "python3",
   "display_name": "Python 3.7.7 64-bit",
   "metadata": {
    "interpreter": {
     "hash": "e534e48711db4d1e1c48977d0d14ff85b1f16d41bcc4fdfd88268a329b3c9d66"
    }
   }
  },
  "language_info": {
   "codemirror_mode": {
    "name": "ipython",
    "version": 3
   },
   "file_extension": ".py",
   "mimetype": "text/x-python",
   "name": "python",
   "nbconvert_exporter": "python",
   "pygments_lexer": "ipython3",
   "version": "3.7.7-final"
  }
 },
 "nbformat": 4,
 "nbformat_minor": 4
}