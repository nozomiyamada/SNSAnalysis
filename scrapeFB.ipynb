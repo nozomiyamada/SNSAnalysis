{
 "cells": [
  {
   "cell_type": "code",
   "execution_count": 15,
   "metadata": {},
   "outputs": [],
   "source": [
    "from ScrapeFB import *\n",
    "import pandas as pd\n",
    "import selenium\n",
    "import bs4, time, re, json, datetime"
   ]
  },
  {
   "cell_type": "code",
   "execution_count": 2,
   "metadata": {},
   "outputs": [],
   "source": [
    "#URL = 'https://www.facebook.com/pg/set.or.th/posts/'\n",
    "URL = 'https://www.facebook.com/SCGofficialpage/'\n"
   ]
  },
  {
   "cell_type": "code",
   "execution_count": 4,
   "metadata": {},
   "outputs": [
    {
     "output_type": "stream",
     "name": "stderr",
     "text": [
      "100%|██████████| 2/2 [00:20<00:00, 10.21s/it]\n",
      "100%|██████████| 2/2 [00:20<00:00, 10.30s/it]\n"
     ]
    }
   ],
   "source": [
    "for i in range(2):\n",
    "    window.scrape(filename='scgtest.json', scroll=2)"
   ]
  },
  {
   "cell_type": "code",
   "execution_count": null,
   "metadata": {},
   "outputs": [],
   "source": []
  },
  {
   "source": [
    "# mobile FB test"
   ],
   "cell_type": "markdown",
   "metadata": {}
  },
  {
   "cell_type": "code",
   "execution_count": 2,
   "metadata": {},
   "outputs": [],
   "source": [
    "URL = 'https://m.facebook.com/AIS/posts'\n",
    "\n",
    "window = WindowNoLogin(url=URL, headless=False, browser='firefox')"
   ]
  },
  {
   "cell_type": "code",
   "execution_count": 146,
   "metadata": {},
   "outputs": [
    {
     "output_type": "stream",
     "name": "stdout",
     "text": [
      "เอไอเอส ร่วมต้อนรับเทศกาลคริสต์มาส 2563\n ลูกค้าเอไอเอส รับฟรี! ถุงผ้าน้องอุ่นใจคริสต์มาสคอลเล็กชั่น เพียงซื้อสินค้า สมัครแพ็กเกจ เปิดเบอร์ใหม่ หรือติดตั้ง เอไอเอส ไฟเบอร์\n รับสิทธิ์ได้ที่ เอไอเอส ช็อป และ เอไอเอส\n<span class=\"text_exposed_hide\">… <span data-sigil=\"more\"><a href=\"/story.php?story_fbid=10159701317211554&amp;id=127434041553\">เพิ่มเติม</a></span></span>\n<span class=\"text_exposed_show\"> เซเรเนด คลับ ทุกสาขา<br/> ในวันที่ 25 ธ.ค. 63<br/> จำนวนจำกัดรวมทุกสาขา 20,000 ท่านแรก หรือจนกว่าของจะหมด</span>\n \n<a class=\"_5ayv _qdx\" href=\"/hashtag/aisserenade?__tn__=%2As-R\"><span class=\"_5aw4 _qdz\">#</span><span class=\"_5ayu\">AISSerenade</span></a>\n \n<a class=\"_5ayv _qdx\" href=\"/hashtag/ais?__tn__=%2As-R\"><span class=\"_5aw4 _qdz\">#</span><span class=\"_5ayu\">AIS</span></a>\n \n<a class=\"_5ayv _qdx\" href=\"/hashtag/serenade?__tn__=%2As-R\"><span class=\"_5aw4 _qdz\">#</span><span class=\"_5ayu\">Serenade</span></a>\n \n<a class=\"_5ayv _qdx\" href=\"/hashtag/aunjai?__tn__=%2As-R\"><span class=\"_5aw4 _qdz\">#</span><span class=\"_5ayu\">AunJai</span></a>\n"
     ]
    }
   ],
   "source": [
    "elem = window.driver.find_elements_by_css_selector('article')[10]\n",
    "soup = bs4.BeautifulSoup(elem.get_attribute('innerHTML'))\n",
    "for p in soup.find_all('p'):\n",
    "    for elem in p.children:\n",
    "        print(elem)"
   ]
  },
  {
   "cell_type": "code",
   "execution_count": 155,
   "metadata": {},
   "outputs": [],
   "source": [
    "def get_article(soup):\n",
    "    article = ''\n",
    "    hashtags = []\n",
    "    for p in soup.find_all('p'):\n",
    "        for elem in p.children:\n",
    "            if type(elem) == bs4.element.NavigableString:\n",
    "                article += elem\n",
    "            elif elem.name == 'br':\n",
    "                article += '\\n'\n",
    "            elif elem.name == 'a':\n",
    "                if ['_5ayv','_qdx'] == elem.attrs.get('class',[]):\n",
    "                    hashtags.append(elem.text)\n",
    "                else:\n",
    "                    article += elem.text\n",
    "            elif elem.name == 'span':\n",
    "                if 'text_exposed_hide' in elem.attrs.get('class', []):\n",
    "                    continue\n",
    "                elif 'text_exposed_show' in elem.attrs.get('class', []):\n",
    "                    for e in elem:\n",
    "                        if type(e) == bs4.element.NavigableString:\n",
    "                            article += e.lstrip()\n",
    "                        elif e.name == 'br':\n",
    "                            article += '\\n'\n",
    "                        elif e.name == 'a':\n",
    "                            if ['_5ayv','_qdx'] == e.attrs.get('class',[]):\n",
    "                                hashtags.append(e.text)\n",
    "                            else:\n",
    "                                article += e.text\n",
    "                else: # e.g. emoji\n",
    "                    try:\n",
    "                        article += elem.text\n",
    "                    except:\n",
    "                        pass\n",
    "        article += '\\n\\n'\n",
    "        article = re.sub('\\n +', '\\n', article).strip()\n",
    "    return article, hashtags"
   ]
  },
  {
   "cell_type": "code",
   "execution_count": 173,
   "metadata": {},
   "outputs": [],
   "source": [
    "def get_images(soup):\n",
    "    images = []\n",
    "    try: \n",
    "        img_div = soup.select_one('._5rgu._7dc9._27x0')\n",
    "        for img in img_div.select('img'):\n",
    "            images.append(img.get('src'))\n",
    "    except:\n",
    "        pass\n",
    "    return images"
   ]
  },
  {
   "cell_type": "code",
   "execution_count": null,
   "metadata": {},
   "outputs": [],
   "source": [
    "def get_video(soup):\n",
    "    try: \n",
    "        img_div = soup.select_one('._5rgu._7dc9._27x0')\n",
    "        img_div.select_one('i'):\n",
    "            images.append(img.get('src'))\n",
    "    except:\n",
    "        return None"
   ]
  },
  {
   "cell_type": "code",
   "execution_count": 174,
   "metadata": {},
   "outputs": [
    {
     "output_type": "stream",
     "name": "stdout",
     "text": [
      "('ห้ามพลาดโปรสุดพิเศษจากเอไอเอส! เป็นเจ้าของ iPhone 12 และ iPhone 12 mini บนเครือข่าย AIS 5G วันนี้ ราคาสุดคุ้มค่า พร้อมสัมผัสประสบการณ์ 5G ที่เร็ว แรง ยิ่งกว่าใคร เพิ่มเติม > https://m.ais.co.th/zGHdY62TZ', ['#AIS5G', '#iPhone12', '#iPhone12mini', '#AIS5Gคลื่นมากสุดเร็วที่สุด'])\n"
     ]
    }
   ],
   "source": [
    "elem = window.driver.find_elements_by_css_selector('article')[6]\n",
    "soup = bs4.BeautifulSoup(elem.get_attribute('innerHTML'))\n",
    "print(get_article(soup))"
   ]
  },
  {
   "cell_type": "code",
   "execution_count": 175,
   "metadata": {},
   "outputs": [
    {
     "output_type": "execute_result",
     "data": {
      "text/plain": [
       "['https://scontent.fbkk2-8.fna.fbcdn.net/v/t1.0-0/cp0/e15/q65/p320x320/131757986_10159708316416554_6180285303089172059_o.jpg?_nc_cat=102&ccb=2&_nc_sid=8024bb&_nc_ohc=E_VX8ph8ZbMAX-5wb7h&_nc_ht=scontent.fbkk2-8.fna&tp=3&oh=c9c8d59ad982169a2c625a1aab18cded&oe=600B3B7A',\n",
       " 'https://scontent.fbkk2-5.fna.fbcdn.net/v/t1.0-0/cp0/e15/q65/p160x160/132865847_10159708316406554_2210362695658010951_n.jpg?_nc_cat=110&ccb=2&_nc_sid=8024bb&_nc_ohc=hzNdm0Gx1z8AX_2R7rD&_nc_ht=scontent.fbkk2-5.fna&tp=3&oh=71cd4e9f2ad0f42a5842eb96cd675bfc&oe=600B14DE',\n",
       " 'https://scontent.fbkk2-7.fna.fbcdn.net/v/t1.0-0/cp0/e15/q65/p160x160/131681355_10159708316411554_6218740492175187591_n.jpg?_nc_cat=106&ccb=2&_nc_sid=8024bb&_nc_ohc=naetRa86PX8AX9eKeVY&_nc_ht=scontent.fbkk2-7.fna&tp=3&oh=a36702b059859fb2dac91e13d9c9804d&oe=600C3A6A',\n",
       " 'https://scontent.fbkk2-3.fna.fbcdn.net/v/t1.0-0/cp0/e15/q65/p160x160/131373483_10159708316666554_690350722248443399_n.jpg?_nc_cat=109&ccb=2&_nc_sid=8024bb&_nc_ohc=ebNINru-pc4AX9jdZtb&_nc_ht=scontent.fbkk2-3.fna&tp=3&oh=ad8981d9e9394d5a1d93b21c02c3bab9&oe=600AD304']"
      ]
     },
     "metadata": {},
     "execution_count": 175
    }
   ],
   "source": [
    "get_images(soup)"
   ]
  },
  {
   "cell_type": "code",
   "execution_count": 4,
   "metadata": {},
   "outputs": [
    {
     "output_type": "stream",
     "name": "stderr",
     "text": [
      "100%|██████████| 10/10 [02:19<00:00, 13.98s/it]\n"
     ]
    },
    {
     "output_type": "error",
     "ename": "KeyboardInterrupt",
     "evalue": "",
     "traceback": [
      "\u001b[0;31m---------------------------------------------------------------------------\u001b[0m",
      "\u001b[0;31mKeyboardInterrupt\u001b[0m                         Traceback (most recent call last)",
      "\u001b[0;32m<ipython-input-4-39545b831058>\u001b[0m in \u001b[0;36m<module>\u001b[0;34m\u001b[0m\n\u001b[1;32m      1\u001b[0m \u001b[0;32mfor\u001b[0m \u001b[0mi\u001b[0m \u001b[0;32min\u001b[0m \u001b[0mrange\u001b[0m\u001b[0;34m(\u001b[0m\u001b[0;36m20\u001b[0m\u001b[0;34m)\u001b[0m\u001b[0;34m:\u001b[0m\u001b[0;34m\u001b[0m\u001b[0;34m\u001b[0m\u001b[0m\n\u001b[1;32m      2\u001b[0m     \u001b[0;32mtry\u001b[0m\u001b[0;34m:\u001b[0m\u001b[0;34m\u001b[0m\u001b[0;34m\u001b[0m\u001b[0m\n\u001b[0;32m----> 3\u001b[0;31m         \u001b[0mwindow\u001b[0m\u001b[0;34m.\u001b[0m\u001b[0mscrape\u001b[0m\u001b[0;34m(\u001b[0m\u001b[0mfilename\u001b[0m\u001b[0;34m=\u001b[0m\u001b[0;34m'aisFB.json'\u001b[0m\u001b[0;34m,\u001b[0m \u001b[0mscroll\u001b[0m\u001b[0;34m=\u001b[0m\u001b[0;36m10\u001b[0m\u001b[0;34m)\u001b[0m\u001b[0;34m\u001b[0m\u001b[0;34m\u001b[0m\u001b[0m\n\u001b[0m\u001b[1;32m      4\u001b[0m     \u001b[0;32mexcept\u001b[0m \u001b[0mException\u001b[0m \u001b[0;32mas\u001b[0m \u001b[0me\u001b[0m\u001b[0;34m:\u001b[0m\u001b[0;34m\u001b[0m\u001b[0;34m\u001b[0m\u001b[0m\n\u001b[1;32m      5\u001b[0m         \u001b[0mprint\u001b[0m\u001b[0;34m(\u001b[0m\u001b[0me\u001b[0m\u001b[0;34m)\u001b[0m\u001b[0;34m\u001b[0m\u001b[0;34m\u001b[0m\u001b[0m\n",
      "\u001b[0;32m~/github/SNSAnalysis/ScrapeFB.py\u001b[0m in \u001b[0;36mscrape\u001b[0;34m(self, filename, scroll)\u001b[0m\n\u001b[1;32m    138\u001b[0m                 \u001b[0mself\u001b[0m\u001b[0;34m.\u001b[0m\u001b[0mappend_data\u001b[0m\u001b[0;34m(\u001b[0m\u001b[0;34m)\u001b[0m\u001b[0;34m\u001b[0m\u001b[0;34m\u001b[0m\u001b[0m\n\u001b[1;32m    139\u001b[0m                 \u001b[0mself\u001b[0m\u001b[0;34m.\u001b[0m\u001b[0mload_jquery\u001b[0m\u001b[0;34m(\u001b[0m\u001b[0;34m)\u001b[0m \u001b[0;31m# reload jQuery\u001b[0m\u001b[0;34m\u001b[0m\u001b[0;34m\u001b[0m\u001b[0m\n\u001b[0;32m--> 140\u001b[0;31m                 \u001b[0mself\u001b[0m\u001b[0;34m.\u001b[0m\u001b[0mdelete_elements\u001b[0m\u001b[0;34m(\u001b[0m\u001b[0;34m)\u001b[0m\u001b[0;34m\u001b[0m\u001b[0;34m\u001b[0m\u001b[0m\n\u001b[0m\u001b[1;32m    141\u001b[0m                 \u001b[0mself\u001b[0m\u001b[0;34m.\u001b[0m\u001b[0mwrite\u001b[0m\u001b[0;34m(\u001b[0m\u001b[0mfilename\u001b[0m\u001b[0;34m)\u001b[0m\u001b[0;34m\u001b[0m\u001b[0;34m\u001b[0m\u001b[0m\n\u001b[1;32m    142\u001b[0m \u001b[0;34m\u001b[0m\u001b[0m\n",
      "\u001b[0;32m~/github/SNSAnalysis/ScrapeFB.py\u001b[0m in \u001b[0;36mdelete_elements\u001b[0;34m(self)\u001b[0m\n\u001b[1;32m    129\u001b[0m                 \u001b[0;31m# delete all post elements & unwrap parent nodes: using jQuery $(elem).unwrap()\u001b[0m\u001b[0;34m\u001b[0m\u001b[0;34m\u001b[0m\u001b[0;34m\u001b[0m\u001b[0m\n\u001b[1;32m    130\u001b[0m                 \u001b[0mself\u001b[0m\u001b[0;34m.\u001b[0m\u001b[0mdriver\u001b[0m\u001b[0;34m.\u001b[0m\u001b[0mexecute_script\u001b[0m\u001b[0;34m(\u001b[0m\u001b[0;34m\"document.querySelectorAll('._4-u2._4-u8').forEach(x => x.remove())\"\u001b[0m\u001b[0;34m)\u001b[0m\u001b[0;34m\u001b[0m\u001b[0;34m\u001b[0m\u001b[0m\n\u001b[0;32m--> 131\u001b[0;31m                 \u001b[0mself\u001b[0m\u001b[0;34m.\u001b[0m\u001b[0mdriver\u001b[0m\u001b[0;34m.\u001b[0m\u001b[0mexecute_script\u001b[0m\u001b[0;34m(\u001b[0m\u001b[0;34m\"while(true){elems=document.querySelectorAll('._1xnd');if(elems.length>1){$(elems[elems.length-1]).unwrap();}else{break;}}\"\u001b[0m\u001b[0;34m)\u001b[0m\u001b[0;34m\u001b[0m\u001b[0;34m\u001b[0m\u001b[0m\n\u001b[0m\u001b[1;32m    132\u001b[0m \u001b[0;34m\u001b[0m\u001b[0m\n\u001b[1;32m    133\u001b[0m         \u001b[0;31m##### MAIN FUNCTION #####\u001b[0m\u001b[0;34m\u001b[0m\u001b[0;34m\u001b[0m\u001b[0;34m\u001b[0m\u001b[0m\n",
      "\u001b[0;32m/Library/Frameworks/Python.framework/Versions/3.7/lib/python3.7/site-packages/selenium/webdriver/remote/webdriver.py\u001b[0m in \u001b[0;36mexecute_script\u001b[0;34m(self, script, *args)\u001b[0m\n\u001b[1;32m    634\u001b[0m         return self.execute(command, {\n\u001b[1;32m    635\u001b[0m             \u001b[0;34m'script'\u001b[0m\u001b[0;34m:\u001b[0m \u001b[0mscript\u001b[0m\u001b[0;34m,\u001b[0m\u001b[0;34m\u001b[0m\u001b[0;34m\u001b[0m\u001b[0m\n\u001b[0;32m--> 636\u001b[0;31m             'args': converted_args})['value']\n\u001b[0m\u001b[1;32m    637\u001b[0m \u001b[0;34m\u001b[0m\u001b[0m\n\u001b[1;32m    638\u001b[0m     \u001b[0;32mdef\u001b[0m \u001b[0mexecute_async_script\u001b[0m\u001b[0;34m(\u001b[0m\u001b[0mself\u001b[0m\u001b[0;34m,\u001b[0m \u001b[0mscript\u001b[0m\u001b[0;34m,\u001b[0m \u001b[0;34m*\u001b[0m\u001b[0margs\u001b[0m\u001b[0;34m)\u001b[0m\u001b[0;34m:\u001b[0m\u001b[0;34m\u001b[0m\u001b[0;34m\u001b[0m\u001b[0m\n",
      "\u001b[0;32m/Library/Frameworks/Python.framework/Versions/3.7/lib/python3.7/site-packages/selenium/webdriver/remote/webdriver.py\u001b[0m in \u001b[0;36mexecute\u001b[0;34m(self, driver_command, params)\u001b[0m\n\u001b[1;32m    317\u001b[0m \u001b[0;34m\u001b[0m\u001b[0m\n\u001b[1;32m    318\u001b[0m         \u001b[0mparams\u001b[0m \u001b[0;34m=\u001b[0m \u001b[0mself\u001b[0m\u001b[0;34m.\u001b[0m\u001b[0m_wrap_value\u001b[0m\u001b[0;34m(\u001b[0m\u001b[0mparams\u001b[0m\u001b[0;34m)\u001b[0m\u001b[0;34m\u001b[0m\u001b[0;34m\u001b[0m\u001b[0m\n\u001b[0;32m--> 319\u001b[0;31m         \u001b[0mresponse\u001b[0m \u001b[0;34m=\u001b[0m \u001b[0mself\u001b[0m\u001b[0;34m.\u001b[0m\u001b[0mcommand_executor\u001b[0m\u001b[0;34m.\u001b[0m\u001b[0mexecute\u001b[0m\u001b[0;34m(\u001b[0m\u001b[0mdriver_command\u001b[0m\u001b[0;34m,\u001b[0m \u001b[0mparams\u001b[0m\u001b[0;34m)\u001b[0m\u001b[0;34m\u001b[0m\u001b[0;34m\u001b[0m\u001b[0m\n\u001b[0m\u001b[1;32m    320\u001b[0m         \u001b[0;32mif\u001b[0m \u001b[0mresponse\u001b[0m\u001b[0;34m:\u001b[0m\u001b[0;34m\u001b[0m\u001b[0;34m\u001b[0m\u001b[0m\n\u001b[1;32m    321\u001b[0m             \u001b[0mself\u001b[0m\u001b[0;34m.\u001b[0m\u001b[0merror_handler\u001b[0m\u001b[0;34m.\u001b[0m\u001b[0mcheck_response\u001b[0m\u001b[0;34m(\u001b[0m\u001b[0mresponse\u001b[0m\u001b[0;34m)\u001b[0m\u001b[0;34m\u001b[0m\u001b[0;34m\u001b[0m\u001b[0m\n",
      "\u001b[0;32m/Library/Frameworks/Python.framework/Versions/3.7/lib/python3.7/site-packages/selenium/webdriver/remote/remote_connection.py\u001b[0m in \u001b[0;36mexecute\u001b[0;34m(self, command, params)\u001b[0m\n\u001b[1;32m    372\u001b[0m         \u001b[0mdata\u001b[0m \u001b[0;34m=\u001b[0m \u001b[0mutils\u001b[0m\u001b[0;34m.\u001b[0m\u001b[0mdump_json\u001b[0m\u001b[0;34m(\u001b[0m\u001b[0mparams\u001b[0m\u001b[0;34m)\u001b[0m\u001b[0;34m\u001b[0m\u001b[0;34m\u001b[0m\u001b[0m\n\u001b[1;32m    373\u001b[0m         \u001b[0murl\u001b[0m \u001b[0;34m=\u001b[0m \u001b[0;34m'%s%s'\u001b[0m \u001b[0;34m%\u001b[0m \u001b[0;34m(\u001b[0m\u001b[0mself\u001b[0m\u001b[0;34m.\u001b[0m\u001b[0m_url\u001b[0m\u001b[0;34m,\u001b[0m \u001b[0mpath\u001b[0m\u001b[0;34m)\u001b[0m\u001b[0;34m\u001b[0m\u001b[0;34m\u001b[0m\u001b[0m\n\u001b[0;32m--> 374\u001b[0;31m         \u001b[0;32mreturn\u001b[0m \u001b[0mself\u001b[0m\u001b[0;34m.\u001b[0m\u001b[0m_request\u001b[0m\u001b[0;34m(\u001b[0m\u001b[0mcommand_info\u001b[0m\u001b[0;34m[\u001b[0m\u001b[0;36m0\u001b[0m\u001b[0;34m]\u001b[0m\u001b[0;34m,\u001b[0m \u001b[0murl\u001b[0m\u001b[0;34m,\u001b[0m \u001b[0mbody\u001b[0m\u001b[0;34m=\u001b[0m\u001b[0mdata\u001b[0m\u001b[0;34m)\u001b[0m\u001b[0;34m\u001b[0m\u001b[0;34m\u001b[0m\u001b[0m\n\u001b[0m\u001b[1;32m    375\u001b[0m \u001b[0;34m\u001b[0m\u001b[0m\n\u001b[1;32m    376\u001b[0m     \u001b[0;32mdef\u001b[0m \u001b[0m_request\u001b[0m\u001b[0;34m(\u001b[0m\u001b[0mself\u001b[0m\u001b[0;34m,\u001b[0m \u001b[0mmethod\u001b[0m\u001b[0;34m,\u001b[0m \u001b[0murl\u001b[0m\u001b[0;34m,\u001b[0m \u001b[0mbody\u001b[0m\u001b[0;34m=\u001b[0m\u001b[0;32mNone\u001b[0m\u001b[0;34m)\u001b[0m\u001b[0;34m:\u001b[0m\u001b[0;34m\u001b[0m\u001b[0;34m\u001b[0m\u001b[0m\n",
      "\u001b[0;32m/Library/Frameworks/Python.framework/Versions/3.7/lib/python3.7/site-packages/selenium/webdriver/remote/remote_connection.py\u001b[0m in \u001b[0;36m_request\u001b[0;34m(self, method, url, body)\u001b[0m\n\u001b[1;32m    395\u001b[0m \u001b[0;34m\u001b[0m\u001b[0m\n\u001b[1;32m    396\u001b[0m         \u001b[0;32mif\u001b[0m \u001b[0mself\u001b[0m\u001b[0;34m.\u001b[0m\u001b[0mkeep_alive\u001b[0m\u001b[0;34m:\u001b[0m\u001b[0;34m\u001b[0m\u001b[0;34m\u001b[0m\u001b[0m\n\u001b[0;32m--> 397\u001b[0;31m             \u001b[0mresp\u001b[0m \u001b[0;34m=\u001b[0m \u001b[0mself\u001b[0m\u001b[0;34m.\u001b[0m\u001b[0m_conn\u001b[0m\u001b[0;34m.\u001b[0m\u001b[0mrequest\u001b[0m\u001b[0;34m(\u001b[0m\u001b[0mmethod\u001b[0m\u001b[0;34m,\u001b[0m \u001b[0murl\u001b[0m\u001b[0;34m,\u001b[0m \u001b[0mbody\u001b[0m\u001b[0;34m=\u001b[0m\u001b[0mbody\u001b[0m\u001b[0;34m,\u001b[0m \u001b[0mheaders\u001b[0m\u001b[0;34m=\u001b[0m\u001b[0mheaders\u001b[0m\u001b[0;34m)\u001b[0m\u001b[0;34m\u001b[0m\u001b[0;34m\u001b[0m\u001b[0m\n\u001b[0m\u001b[1;32m    398\u001b[0m \u001b[0;34m\u001b[0m\u001b[0m\n\u001b[1;32m    399\u001b[0m             \u001b[0mstatuscode\u001b[0m \u001b[0;34m=\u001b[0m \u001b[0mresp\u001b[0m\u001b[0;34m.\u001b[0m\u001b[0mstatus\u001b[0m\u001b[0;34m\u001b[0m\u001b[0;34m\u001b[0m\u001b[0m\n",
      "\u001b[0;32m/Library/Frameworks/Python.framework/Versions/3.7/lib/python3.7/site-packages/urllib3/request.py\u001b[0m in \u001b[0;36mrequest\u001b[0;34m(self, method, url, fields, headers, **urlopen_kw)\u001b[0m\n\u001b[1;32m     78\u001b[0m         \u001b[0;32melse\u001b[0m\u001b[0;34m:\u001b[0m\u001b[0;34m\u001b[0m\u001b[0;34m\u001b[0m\u001b[0m\n\u001b[1;32m     79\u001b[0m             return self.request_encode_body(\n\u001b[0;32m---> 80\u001b[0;31m                 \u001b[0mmethod\u001b[0m\u001b[0;34m,\u001b[0m \u001b[0murl\u001b[0m\u001b[0;34m,\u001b[0m \u001b[0mfields\u001b[0m\u001b[0;34m=\u001b[0m\u001b[0mfields\u001b[0m\u001b[0;34m,\u001b[0m \u001b[0mheaders\u001b[0m\u001b[0;34m=\u001b[0m\u001b[0mheaders\u001b[0m\u001b[0;34m,\u001b[0m \u001b[0;34m**\u001b[0m\u001b[0murlopen_kw\u001b[0m\u001b[0;34m\u001b[0m\u001b[0;34m\u001b[0m\u001b[0m\n\u001b[0m\u001b[1;32m     81\u001b[0m             )\n\u001b[1;32m     82\u001b[0m \u001b[0;34m\u001b[0m\u001b[0m\n",
      "\u001b[0;32m/Library/Frameworks/Python.framework/Versions/3.7/lib/python3.7/site-packages/urllib3/request.py\u001b[0m in \u001b[0;36mrequest_encode_body\u001b[0;34m(self, method, url, fields, headers, encode_multipart, multipart_boundary, **urlopen_kw)\u001b[0m\n\u001b[1;32m    169\u001b[0m         \u001b[0mextra_kw\u001b[0m\u001b[0;34m.\u001b[0m\u001b[0mupdate\u001b[0m\u001b[0;34m(\u001b[0m\u001b[0murlopen_kw\u001b[0m\u001b[0;34m)\u001b[0m\u001b[0;34m\u001b[0m\u001b[0;34m\u001b[0m\u001b[0m\n\u001b[1;32m    170\u001b[0m \u001b[0;34m\u001b[0m\u001b[0m\n\u001b[0;32m--> 171\u001b[0;31m         \u001b[0;32mreturn\u001b[0m \u001b[0mself\u001b[0m\u001b[0;34m.\u001b[0m\u001b[0murlopen\u001b[0m\u001b[0;34m(\u001b[0m\u001b[0mmethod\u001b[0m\u001b[0;34m,\u001b[0m \u001b[0murl\u001b[0m\u001b[0;34m,\u001b[0m \u001b[0;34m**\u001b[0m\u001b[0mextra_kw\u001b[0m\u001b[0;34m)\u001b[0m\u001b[0;34m\u001b[0m\u001b[0;34m\u001b[0m\u001b[0m\n\u001b[0m",
      "\u001b[0;32m/Library/Frameworks/Python.framework/Versions/3.7/lib/python3.7/site-packages/urllib3/poolmanager.py\u001b[0m in \u001b[0;36murlopen\u001b[0;34m(self, method, url, redirect, **kw)\u001b[0m\n\u001b[1;32m    328\u001b[0m             \u001b[0mresponse\u001b[0m \u001b[0;34m=\u001b[0m \u001b[0mconn\u001b[0m\u001b[0;34m.\u001b[0m\u001b[0murlopen\u001b[0m\u001b[0;34m(\u001b[0m\u001b[0mmethod\u001b[0m\u001b[0;34m,\u001b[0m \u001b[0murl\u001b[0m\u001b[0;34m,\u001b[0m \u001b[0;34m**\u001b[0m\u001b[0mkw\u001b[0m\u001b[0;34m)\u001b[0m\u001b[0;34m\u001b[0m\u001b[0;34m\u001b[0m\u001b[0m\n\u001b[1;32m    329\u001b[0m         \u001b[0;32melse\u001b[0m\u001b[0;34m:\u001b[0m\u001b[0;34m\u001b[0m\u001b[0;34m\u001b[0m\u001b[0m\n\u001b[0;32m--> 330\u001b[0;31m             \u001b[0mresponse\u001b[0m \u001b[0;34m=\u001b[0m \u001b[0mconn\u001b[0m\u001b[0;34m.\u001b[0m\u001b[0murlopen\u001b[0m\u001b[0;34m(\u001b[0m\u001b[0mmethod\u001b[0m\u001b[0;34m,\u001b[0m \u001b[0mu\u001b[0m\u001b[0;34m.\u001b[0m\u001b[0mrequest_uri\u001b[0m\u001b[0;34m,\u001b[0m \u001b[0;34m**\u001b[0m\u001b[0mkw\u001b[0m\u001b[0;34m)\u001b[0m\u001b[0;34m\u001b[0m\u001b[0;34m\u001b[0m\u001b[0m\n\u001b[0m\u001b[1;32m    331\u001b[0m \u001b[0;34m\u001b[0m\u001b[0m\n\u001b[1;32m    332\u001b[0m         \u001b[0mredirect_location\u001b[0m \u001b[0;34m=\u001b[0m \u001b[0mredirect\u001b[0m \u001b[0;32mand\u001b[0m \u001b[0mresponse\u001b[0m\u001b[0;34m.\u001b[0m\u001b[0mget_redirect_location\u001b[0m\u001b[0;34m(\u001b[0m\u001b[0;34m)\u001b[0m\u001b[0;34m\u001b[0m\u001b[0;34m\u001b[0m\u001b[0m\n",
      "\u001b[0;32m/Library/Frameworks/Python.framework/Versions/3.7/lib/python3.7/site-packages/urllib3/connectionpool.py\u001b[0m in \u001b[0;36murlopen\u001b[0;34m(self, method, url, body, headers, retries, redirect, assert_same_host, timeout, pool_timeout, release_conn, chunked, body_pos, **response_kw)\u001b[0m\n\u001b[1;32m    670\u001b[0m                 \u001b[0mbody\u001b[0m\u001b[0;34m=\u001b[0m\u001b[0mbody\u001b[0m\u001b[0;34m,\u001b[0m\u001b[0;34m\u001b[0m\u001b[0;34m\u001b[0m\u001b[0m\n\u001b[1;32m    671\u001b[0m                 \u001b[0mheaders\u001b[0m\u001b[0;34m=\u001b[0m\u001b[0mheaders\u001b[0m\u001b[0;34m,\u001b[0m\u001b[0;34m\u001b[0m\u001b[0;34m\u001b[0m\u001b[0m\n\u001b[0;32m--> 672\u001b[0;31m                 \u001b[0mchunked\u001b[0m\u001b[0;34m=\u001b[0m\u001b[0mchunked\u001b[0m\u001b[0;34m,\u001b[0m\u001b[0;34m\u001b[0m\u001b[0;34m\u001b[0m\u001b[0m\n\u001b[0m\u001b[1;32m    673\u001b[0m             )\n\u001b[1;32m    674\u001b[0m \u001b[0;34m\u001b[0m\u001b[0m\n",
      "\u001b[0;32m/Library/Frameworks/Python.framework/Versions/3.7/lib/python3.7/site-packages/urllib3/connectionpool.py\u001b[0m in \u001b[0;36m_make_request\u001b[0;34m(self, conn, method, url, timeout, chunked, **httplib_request_kw)\u001b[0m\n\u001b[1;32m    419\u001b[0m                     \u001b[0;31m# Python 3 (including for exceptions like SystemExit).\u001b[0m\u001b[0;34m\u001b[0m\u001b[0;34m\u001b[0m\u001b[0;34m\u001b[0m\u001b[0m\n\u001b[1;32m    420\u001b[0m                     \u001b[0;31m# Otherwise it looks like a bug in the code.\u001b[0m\u001b[0;34m\u001b[0m\u001b[0;34m\u001b[0m\u001b[0;34m\u001b[0m\u001b[0m\n\u001b[0;32m--> 421\u001b[0;31m                     \u001b[0msix\u001b[0m\u001b[0;34m.\u001b[0m\u001b[0mraise_from\u001b[0m\u001b[0;34m(\u001b[0m\u001b[0me\u001b[0m\u001b[0;34m,\u001b[0m \u001b[0;32mNone\u001b[0m\u001b[0;34m)\u001b[0m\u001b[0;34m\u001b[0m\u001b[0;34m\u001b[0m\u001b[0m\n\u001b[0m\u001b[1;32m    422\u001b[0m         \u001b[0;32mexcept\u001b[0m \u001b[0;34m(\u001b[0m\u001b[0mSocketTimeout\u001b[0m\u001b[0;34m,\u001b[0m \u001b[0mBaseSSLError\u001b[0m\u001b[0;34m,\u001b[0m \u001b[0mSocketError\u001b[0m\u001b[0;34m)\u001b[0m \u001b[0;32mas\u001b[0m \u001b[0me\u001b[0m\u001b[0;34m:\u001b[0m\u001b[0;34m\u001b[0m\u001b[0;34m\u001b[0m\u001b[0m\n\u001b[1;32m    423\u001b[0m             \u001b[0mself\u001b[0m\u001b[0;34m.\u001b[0m\u001b[0m_raise_timeout\u001b[0m\u001b[0;34m(\u001b[0m\u001b[0merr\u001b[0m\u001b[0;34m=\u001b[0m\u001b[0me\u001b[0m\u001b[0;34m,\u001b[0m \u001b[0murl\u001b[0m\u001b[0;34m=\u001b[0m\u001b[0murl\u001b[0m\u001b[0;34m,\u001b[0m \u001b[0mtimeout_value\u001b[0m\u001b[0;34m=\u001b[0m\u001b[0mread_timeout\u001b[0m\u001b[0;34m)\u001b[0m\u001b[0;34m\u001b[0m\u001b[0;34m\u001b[0m\u001b[0m\n",
      "\u001b[0;32m/Library/Frameworks/Python.framework/Versions/3.7/lib/python3.7/site-packages/urllib3/packages/six.py\u001b[0m in \u001b[0;36mraise_from\u001b[0;34m(value, from_value)\u001b[0m\n",
      "\u001b[0;32m/Library/Frameworks/Python.framework/Versions/3.7/lib/python3.7/site-packages/urllib3/connectionpool.py\u001b[0m in \u001b[0;36m_make_request\u001b[0;34m(self, conn, method, url, timeout, chunked, **httplib_request_kw)\u001b[0m\n\u001b[1;32m    414\u001b[0m                 \u001b[0;31m# Python 3\u001b[0m\u001b[0;34m\u001b[0m\u001b[0;34m\u001b[0m\u001b[0;34m\u001b[0m\u001b[0m\n\u001b[1;32m    415\u001b[0m                 \u001b[0;32mtry\u001b[0m\u001b[0;34m:\u001b[0m\u001b[0;34m\u001b[0m\u001b[0;34m\u001b[0m\u001b[0m\n\u001b[0;32m--> 416\u001b[0;31m                     \u001b[0mhttplib_response\u001b[0m \u001b[0;34m=\u001b[0m \u001b[0mconn\u001b[0m\u001b[0;34m.\u001b[0m\u001b[0mgetresponse\u001b[0m\u001b[0;34m(\u001b[0m\u001b[0;34m)\u001b[0m\u001b[0;34m\u001b[0m\u001b[0;34m\u001b[0m\u001b[0m\n\u001b[0m\u001b[1;32m    417\u001b[0m                 \u001b[0;32mexcept\u001b[0m \u001b[0mBaseException\u001b[0m \u001b[0;32mas\u001b[0m \u001b[0me\u001b[0m\u001b[0;34m:\u001b[0m\u001b[0;34m\u001b[0m\u001b[0;34m\u001b[0m\u001b[0m\n\u001b[1;32m    418\u001b[0m                     \u001b[0;31m# Remove the TypeError from the exception chain in\u001b[0m\u001b[0;34m\u001b[0m\u001b[0;34m\u001b[0m\u001b[0;34m\u001b[0m\u001b[0m\n",
      "\u001b[0;32m/Library/Frameworks/Python.framework/Versions/3.7/lib/python3.7/http/client.py\u001b[0m in \u001b[0;36mgetresponse\u001b[0;34m(self)\u001b[0m\n\u001b[1;32m   1342\u001b[0m         \u001b[0;32mtry\u001b[0m\u001b[0;34m:\u001b[0m\u001b[0;34m\u001b[0m\u001b[0;34m\u001b[0m\u001b[0m\n\u001b[1;32m   1343\u001b[0m             \u001b[0;32mtry\u001b[0m\u001b[0;34m:\u001b[0m\u001b[0;34m\u001b[0m\u001b[0;34m\u001b[0m\u001b[0m\n\u001b[0;32m-> 1344\u001b[0;31m                 \u001b[0mresponse\u001b[0m\u001b[0;34m.\u001b[0m\u001b[0mbegin\u001b[0m\u001b[0;34m(\u001b[0m\u001b[0;34m)\u001b[0m\u001b[0;34m\u001b[0m\u001b[0;34m\u001b[0m\u001b[0m\n\u001b[0m\u001b[1;32m   1345\u001b[0m             \u001b[0;32mexcept\u001b[0m \u001b[0mConnectionError\u001b[0m\u001b[0;34m:\u001b[0m\u001b[0;34m\u001b[0m\u001b[0;34m\u001b[0m\u001b[0m\n\u001b[1;32m   1346\u001b[0m                 \u001b[0mself\u001b[0m\u001b[0;34m.\u001b[0m\u001b[0mclose\u001b[0m\u001b[0;34m(\u001b[0m\u001b[0;34m)\u001b[0m\u001b[0;34m\u001b[0m\u001b[0;34m\u001b[0m\u001b[0m\n",
      "\u001b[0;32m/Library/Frameworks/Python.framework/Versions/3.7/lib/python3.7/http/client.py\u001b[0m in \u001b[0;36mbegin\u001b[0;34m(self)\u001b[0m\n\u001b[1;32m    304\u001b[0m         \u001b[0;31m# read until we get a non-100 response\u001b[0m\u001b[0;34m\u001b[0m\u001b[0;34m\u001b[0m\u001b[0;34m\u001b[0m\u001b[0m\n\u001b[1;32m    305\u001b[0m         \u001b[0;32mwhile\u001b[0m \u001b[0;32mTrue\u001b[0m\u001b[0;34m:\u001b[0m\u001b[0;34m\u001b[0m\u001b[0;34m\u001b[0m\u001b[0m\n\u001b[0;32m--> 306\u001b[0;31m             \u001b[0mversion\u001b[0m\u001b[0;34m,\u001b[0m \u001b[0mstatus\u001b[0m\u001b[0;34m,\u001b[0m \u001b[0mreason\u001b[0m \u001b[0;34m=\u001b[0m \u001b[0mself\u001b[0m\u001b[0;34m.\u001b[0m\u001b[0m_read_status\u001b[0m\u001b[0;34m(\u001b[0m\u001b[0;34m)\u001b[0m\u001b[0;34m\u001b[0m\u001b[0;34m\u001b[0m\u001b[0m\n\u001b[0m\u001b[1;32m    307\u001b[0m             \u001b[0;32mif\u001b[0m \u001b[0mstatus\u001b[0m \u001b[0;34m!=\u001b[0m \u001b[0mCONTINUE\u001b[0m\u001b[0;34m:\u001b[0m\u001b[0;34m\u001b[0m\u001b[0;34m\u001b[0m\u001b[0m\n\u001b[1;32m    308\u001b[0m                 \u001b[0;32mbreak\u001b[0m\u001b[0;34m\u001b[0m\u001b[0;34m\u001b[0m\u001b[0m\n",
      "\u001b[0;32m/Library/Frameworks/Python.framework/Versions/3.7/lib/python3.7/http/client.py\u001b[0m in \u001b[0;36m_read_status\u001b[0;34m(self)\u001b[0m\n\u001b[1;32m    265\u001b[0m \u001b[0;34m\u001b[0m\u001b[0m\n\u001b[1;32m    266\u001b[0m     \u001b[0;32mdef\u001b[0m \u001b[0m_read_status\u001b[0m\u001b[0;34m(\u001b[0m\u001b[0mself\u001b[0m\u001b[0;34m)\u001b[0m\u001b[0;34m:\u001b[0m\u001b[0;34m\u001b[0m\u001b[0;34m\u001b[0m\u001b[0m\n\u001b[0;32m--> 267\u001b[0;31m         \u001b[0mline\u001b[0m \u001b[0;34m=\u001b[0m \u001b[0mstr\u001b[0m\u001b[0;34m(\u001b[0m\u001b[0mself\u001b[0m\u001b[0;34m.\u001b[0m\u001b[0mfp\u001b[0m\u001b[0;34m.\u001b[0m\u001b[0mreadline\u001b[0m\u001b[0;34m(\u001b[0m\u001b[0m_MAXLINE\u001b[0m \u001b[0;34m+\u001b[0m \u001b[0;36m1\u001b[0m\u001b[0;34m)\u001b[0m\u001b[0;34m,\u001b[0m \u001b[0;34m\"iso-8859-1\"\u001b[0m\u001b[0;34m)\u001b[0m\u001b[0;34m\u001b[0m\u001b[0;34m\u001b[0m\u001b[0m\n\u001b[0m\u001b[1;32m    268\u001b[0m         \u001b[0;32mif\u001b[0m \u001b[0mlen\u001b[0m\u001b[0;34m(\u001b[0m\u001b[0mline\u001b[0m\u001b[0;34m)\u001b[0m \u001b[0;34m>\u001b[0m \u001b[0m_MAXLINE\u001b[0m\u001b[0;34m:\u001b[0m\u001b[0;34m\u001b[0m\u001b[0;34m\u001b[0m\u001b[0m\n\u001b[1;32m    269\u001b[0m             \u001b[0;32mraise\u001b[0m \u001b[0mLineTooLong\u001b[0m\u001b[0;34m(\u001b[0m\u001b[0;34m\"status line\"\u001b[0m\u001b[0;34m)\u001b[0m\u001b[0;34m\u001b[0m\u001b[0;34m\u001b[0m\u001b[0m\n",
      "\u001b[0;32m/Library/Frameworks/Python.framework/Versions/3.7/lib/python3.7/socket.py\u001b[0m in \u001b[0;36mreadinto\u001b[0;34m(self, b)\u001b[0m\n\u001b[1;32m    587\u001b[0m         \u001b[0;32mwhile\u001b[0m \u001b[0;32mTrue\u001b[0m\u001b[0;34m:\u001b[0m\u001b[0;34m\u001b[0m\u001b[0;34m\u001b[0m\u001b[0m\n\u001b[1;32m    588\u001b[0m             \u001b[0;32mtry\u001b[0m\u001b[0;34m:\u001b[0m\u001b[0;34m\u001b[0m\u001b[0;34m\u001b[0m\u001b[0m\n\u001b[0;32m--> 589\u001b[0;31m                 \u001b[0;32mreturn\u001b[0m \u001b[0mself\u001b[0m\u001b[0;34m.\u001b[0m\u001b[0m_sock\u001b[0m\u001b[0;34m.\u001b[0m\u001b[0mrecv_into\u001b[0m\u001b[0;34m(\u001b[0m\u001b[0mb\u001b[0m\u001b[0;34m)\u001b[0m\u001b[0;34m\u001b[0m\u001b[0;34m\u001b[0m\u001b[0m\n\u001b[0m\u001b[1;32m    590\u001b[0m             \u001b[0;32mexcept\u001b[0m \u001b[0mtimeout\u001b[0m\u001b[0;34m:\u001b[0m\u001b[0;34m\u001b[0m\u001b[0;34m\u001b[0m\u001b[0m\n\u001b[1;32m    591\u001b[0m                 \u001b[0mself\u001b[0m\u001b[0;34m.\u001b[0m\u001b[0m_timeout_occurred\u001b[0m \u001b[0;34m=\u001b[0m \u001b[0;32mTrue\u001b[0m\u001b[0;34m\u001b[0m\u001b[0;34m\u001b[0m\u001b[0m\n",
      "\u001b[0;31mKeyboardInterrupt\u001b[0m: "
     ]
    }
   ],
   "source": [
    "for i in range(20):\n",
    "    try:\n",
    "        window.scrape(filename='aisFB.json', scroll=10)\n",
    "    except Exception as e:\n",
    "        print(e)\n",
    "    time.sleep(10)"
   ]
  },
  {
   "cell_type": "code",
   "execution_count": null,
   "metadata": {},
   "outputs": [],
   "source": []
  },
  {
   "cell_type": "code",
   "execution_count": null,
   "metadata": {},
   "outputs": [],
   "source": []
  },
  {
   "source": [
    "# scroll manually"
   ],
   "cell_type": "markdown",
   "metadata": {}
  },
  {
   "cell_type": "code",
   "execution_count": 22,
   "metadata": {},
   "outputs": [],
   "source": [
    "window.append_data()"
   ]
  },
  {
   "cell_type": "code",
   "execution_count": 23,
   "metadata": {},
   "outputs": [],
   "source": [
    "window.delete_elements()"
   ]
  },
  {
   "cell_type": "code",
   "execution_count": 24,
   "metadata": {},
   "outputs": [],
   "source": [
    "window.write(savefile)"
   ]
  },
  {
   "source": [
    "# test"
   ],
   "cell_type": "markdown",
   "metadata": {}
  },
  {
   "cell_type": "code",
   "execution_count": 83,
   "metadata": {},
   "outputs": [],
   "source": [
    "elem = window.driver.find_elements_by_css_selector('.du4w35lb.k4urcfbm.l9j0dhe7.sjgh65i0')[1]\n",
    "raw_html = elem.get_attribute('innerHTML') # get html content of element\n",
    "soup = BeautifulSoup(raw_html, features='html.parser') "
   ]
  },
  {
   "cell_type": "code",
   "execution_count": 93,
   "metadata": {},
   "outputs": [
    {
     "output_type": "stream",
     "name": "stdout",
     "text": [
      "--------------------------------------------------\nไม่ว่าใคร ก็ช่วยลดโลกร้อนได้ ! <class 'bs4.element.NavigableString'> \n\n. <class 'bs4.element.NavigableString'> \n\nวันนี้จะพาเพื่อน ๆ ไปดู 8 วิธีลดโลกร้อน ของทัพนักกีฬาระดับโลก ที่รับรองว่าเพื่อน ๆ สามารถนำไปปรับใช้ทำตามได้แน่นอนครับ ! <class 'bs4.element.NavigableString'> \n\n. <class 'bs4.element.NavigableString'> \n\nชอบไอเดียลดโลกร้อนแบบไหน อย่าลืม!! มาชาเลนจ์กันได้ที่  <class 'bs4.element.NavigableString'> \n\nTikTok Challenge #ลดโลกร้อนเริ่มที่เรา  <class 'bs4.element.NavigableString'> \n\nลุ้นรับ iPad Air และกระเป๋าถุงปูน “คิด-จาก-ถุง”  <class 'bs4.element.NavigableString'> \n\nคลิก ! :  <class 'bs4.element.NavigableString'> \n\n<span><a class=\"oajrlxb2 g5ia77u1 qu0x051f esr5mh6w e9989ue4 r7d6kgcz rq0escxv nhd2j8a9 nc684nl6 p7hjln8o kvgmc6g5 cxmmr5t8 oygrvhab hcukyx3x jb3vyjys rz4wbd8a qt6c0cv9 a8nywdso i1ao9s8h esuyzwwr f1sip0of lzcic4wl py34i1dx gpro0wi8\" href=\"https://l.facebook.com/l.php?u=https%3A%2F%2Fvt.tiktok.com%2FZSqaYd3k%2F%3Ffbclid%3DIwAR0-6KnQvPKH1kx-mkuKS9zNavkkoUUf_b5KgQJIoijSWOIeMcbCw3gEWdg&amp;h=AT2GDg5fAV8RpnB0zVkySs-E6KjSwdqoG4UdwWzOQ1SI-XSqeLwxGy8nfN4WQnTPZWvwp-WcP5iUJ27KZTrJ-7NCZcFqxHbYDrpOVIDzKhLmbbfGNIOHI9JwxDOq&amp;__tn__=-UK-R&amp;c[0]=AT101hZ5dz1S7Pz6NbGkdEbjncOks2-K9wP04LzlJ2ewFS2uPypDrRRRgyOhPiOynSSF5Q5kYCn48X3-Oe_wf_ZVq_KFBiuo1lwvCupGvpwZjv8quE9hCY0ESvIqwvTaZ8zKapvYZtUne2m3Tw_TfDfEjQq94GegDMTfS2OCAvewLVI\" rel=\"nofollow noopener\" role=\"link\" tabindex=\"0\" target=\"_blank\">https://vt.tiktok.com/ZSqaYd3k/</a></span> <class 'bs4.element.Tag'> \n\n. <class 'bs4.element.NavigableString'> \n\nมาร่วมหาวิธีลดโลกร้อนเพิ่มเติม  <class 'bs4.element.NavigableString'> \n\nคลิก ! :  <class 'bs4.element.NavigableString'> \n\n<span><a class=\"oajrlxb2 g5ia77u1 qu0x051f esr5mh6w e9989ue4 r7d6kgcz rq0escxv nhd2j8a9 nc684nl6 p7hjln8o kvgmc6g5 cxmmr5t8 oygrvhab hcukyx3x jb3vyjys rz4wbd8a qt6c0cv9 a8nywdso i1ao9s8h esuyzwwr f1sip0of lzcic4wl py34i1dx gpro0wi8\" href=\"https://l.facebook.com/l.php?u=https%3A%2F%2Fbit.ly%2FFBSCGCES441%3Ffbclid%3DIwAR0-6KnQvPKH1kx-mkuKS9zNavkkoUUf_b5KgQJIoijSWOIeMcbCw3gEWdg&amp;h=AT1qEk8-MQg8u2KCigp2edn01kjvAfrSH6-2DvQ3KXhGEawYGXa3ogKVWJxRNbnKK8Khp8pKds-pXQEs3kFct-QsB6k2bf9aNRGfaTf9PwvjqjgBSF1rF902Rh6V&amp;__tn__=-UK-R&amp;c[0]=AT101hZ5dz1S7Pz6NbGkdEbjncOks2-K9wP04LzlJ2ewFS2uPypDrRRRgyOhPiOynSSF5Q5kYCn48X3-Oe_wf_ZVq_KFBiuo1lwvCupGvpwZjv8quE9hCY0ESvIqwvTaZ8zKapvYZtUne2m3Tw_TfDfEjQq94GegDMTfS2OCAvewLVI\" rel=\"nofollow noopener\" role=\"link\" tabindex=\"0\" target=\"_blank\">http://bit.ly/FBSCGCES441</a></span> <class 'bs4.element.Tag'> \n\n. <class 'bs4.element.NavigableString'> \n\n<span><a class=\"oajrlxb2 g5ia77u1 qu0x051f esr5mh6w e9989ue4 r7d6kgcz rq0escxv nhd2j8a9 nc684nl6 p7hjln8o kvgmc6g5 cxmmr5t8 oygrvhab hcukyx3x jb3vyjys rz4wbd8a qt6c0cv9 a8nywdso i1ao9s8h esuyzwwr f1sip0of lzcic4wl q66pz984 gpro0wi8 b1v8xokw\" href=\"https://www.facebook.com/hashtag/%E0%B8%A5%E0%B8%94%E0%B9%82%E0%B8%A5%E0%B8%81%E0%B8%A3%E0%B9%89%E0%B8%AD%E0%B8%99%E0%B9%80%E0%B8%A3%E0%B8%B4%E0%B9%88%E0%B8%A1%E0%B8%97%E0%B8%B5%E0%B9%88%E0%B9%80%E0%B8%A3%E0%B8%B2?__eep__=6&amp;__cft__[0]=AZXeLmO-p_xnTDVqL9bsnPHdVqZoXiYLvhgQGOoG9zIG3Q9pVf4MMYRH--qvUDoMh1-2NNEdJh5_QrjqpufKBgg3gXicPUmlVs5b4-6CXdZeo-DKwF1d47fxpW9dPzjLDB5ieiyOb6sTLU-19c3QblHt&amp;__tn__=*NK-R\" role=\"link\" tabindex=\"0\">#ลดโลกร้อนเริ่มที่เรา</a></span> <class 'bs4.element.Tag'> \n\n  <class 'bs4.element.NavigableString'> \n\n<span><a class=\"oajrlxb2 g5ia77u1 qu0x051f esr5mh6w e9989ue4 r7d6kgcz rq0escxv nhd2j8a9 nc684nl6 p7hjln8o kvgmc6g5 cxmmr5t8 oygrvhab hcukyx3x jb3vyjys rz4wbd8a qt6c0cv9 a8nywdso i1ao9s8h esuyzwwr f1sip0of lzcic4wl q66pz984 gpro0wi8 b1v8xokw\" href=\"https://www.facebook.com/hashtag/scg?__eep__=6&amp;__cft__[0]=AZXeLmO-p_xnTDVqL9bsnPHdVqZoXiYLvhgQGOoG9zIG3Q9pVf4MMYRH--qvUDoMh1-2NNEdJh5_QrjqpufKBgg3gXicPUmlVs5b4-6CXdZeo-DKwF1d47fxpW9dPzjLDB5ieiyOb6sTLU-19c3QblHt&amp;__tn__=*NK-R\" role=\"link\" tabindex=\"0\">#SCG</a></span> <class 'bs4.element.Tag'> \n\n  <class 'bs4.element.NavigableString'> \n\n<span><a class=\"oajrlxb2 g5ia77u1 qu0x051f esr5mh6w e9989ue4 r7d6kgcz rq0escxv nhd2j8a9 nc684nl6 p7hjln8o kvgmc6g5 cxmmr5t8 oygrvhab hcukyx3x jb3vyjys rz4wbd8a qt6c0cv9 a8nywdso i1ao9s8h esuyzwwr f1sip0of lzcic4wl q66pz984 gpro0wi8 b1v8xokw\" href=\"https://www.facebook.com/hashtag/climateemergency?__eep__=6&amp;__cft__[0]=AZXeLmO-p_xnTDVqL9bsnPHdVqZoXiYLvhgQGOoG9zIG3Q9pVf4MMYRH--qvUDoMh1-2NNEdJh5_QrjqpufKBgg3gXicPUmlVs5b4-6CXdZeo-DKwF1d47fxpW9dPzjLDB5ieiyOb6sTLU-19c3QblHt&amp;__tn__=*NK-R\" role=\"link\" tabindex=\"0\">#ClimateEmergency</a></span> <class 'bs4.element.Tag'> \n\n"
     ]
    }
   ],
   "source": [
    "for paragraph in soup.select('.cxmmr5t8.oygrvhab.hcukyx3x.c1et5uql.ii04i59q'):\n",
    "    print('-'*50)\n",
    "    for div in paragraph.select('div'):\n",
    "        for child in div.children:\n",
    "            print(child, type(child),'\\n')"
   ]
  },
  {
   "cell_type": "code",
   "execution_count": 95,
   "metadata": {},
   "outputs": [
    {
     "output_type": "stream",
     "name": "stdout",
     "text": [
      "\nไม่ว่าใคร ก็ช่วยลดโลกร้อนได้ !\n.\nวันนี้จะพาเพื่อน ๆ ไปดู 8 วิธีลดโลกร้อน ของทัพนักกีฬาระดับโลก ที่รับรองว่าเพื่อน ๆ สามารถนำไปปรับใช้ทำตามได้แน่นอนครับ !\n.\nชอบไอเดียลดโลกร้อนแบบไหน อย่าลืม!! มาชาเลนจ์กันได้ที่ \nTikTok Challenge #ลดโลกร้อนเริ่มที่เรา \nลุ้นรับ iPad Air และกระเป๋าถุงปูน “คิด-จาก-ถุง” \nคลิก ! : https://vt.tiktok.com/ZSqaYd3k/\n.\nมาร่วมหาวิธีลดโลกร้อนเพิ่มเติม \nคลิก ! : http://bit.ly/FBSCGCES441\n.\n \n \n['#ลดโลกร้อนเริ่มที่เรา', '#SCG', '#ClimateEmergency']\n"
     ]
    }
   ],
   "source": [
    "article = []\n",
    "hashtags = []\n",
    "for paragraph in soup.select('.cxmmr5t8.oygrvhab.hcukyx3x.c1et5uql.ii04i59q'):\n",
    "    text_in_paragraph = ''\n",
    "    for div in paragraph.select('div'):\n",
    "        for child in div.children:\n",
    "            if type(child) == bs4.element.NavigableString:\n",
    "                text_in_paragraph += '\\n' + child\n",
    "            elif type(child) == bs4.element.Tag:\n",
    "                inner_text = child.text.strip()\n",
    "                if inner_text != '': # hashtag or link\n",
    "                    if inner_text.startswith('#'): # hashtag\n",
    "                        hashtags.append(inner_text)\n",
    "                    else: # link\n",
    "                        text_in_paragraph += inner_text\n",
    "                else:\n",
    "                    emoji = re.search(r'<img alt=\"(.+?)\".+/?>', str(child))\n",
    "                    if emoji:\n",
    "                        text_in_paragraph += emoji.group(1)\n",
    "    article.append(text_in_paragraph)\n",
    "print('\\n\\n'.join(article))\n",
    "print(hashtags)"
   ]
  },
  {
   "source": [
    "# check file"
   ],
   "cell_type": "markdown",
   "metadata": {}
  },
  {
   "cell_type": "code",
   "execution_count": 13,
   "metadata": {},
   "outputs": [
    {
     "output_type": "execute_result",
     "data": {
      "text/plain": [
       "                    date                                            article  \\\n",
       "0    2020-09-14 03:00:00  หากยังรู้สึกว่า \"อากาศร้อนขึ้นทุกปี\" โลกร้อน ก...   \n",
       "1    2020-12-02 02:07:00  อดทน รับผิดชอบ มีวินัย 3 แนวทางที่เราช่วยกันได...   \n",
       "2    2020-12-02 00:52:00  เวลาพูดถึงการใช้ชีวิตที่ 'เป็นมิตรกับสิ่งแวดล้...   \n",
       "3    2020-12-01 19:00:00  ลดโลกร้อนไม่ใช่เรื่องไกลตัว สามารถทำได้หลายวิธ...   \n",
       "4    2020-12-01 04:30:00  อัปเดต Highlight เรื่องราวสำคัญเดือนพฤศจิกายน ...   \n",
       "...                  ...                                                ...   \n",
       "2881 2016-02-09 03:55:00  ยังมีเวลาสำหรับเพื่อนๆน้องๆ ที่อยากร่วมเป็นส่ว...   \n",
       "2882 2016-02-04 01:56:00  เพื่อนๆหลายคนน่าจะชอบปั่นจักรยานกันไม่ว่าจะไปท...   \n",
       "2883 2016-02-01 03:18:00  สำหรับพ่อแม่ที่ต้องการทำกิจกรรมแต่ต้องดูแลลูกน...   \n",
       "2884 2016-01-29 03:33:00  เอสซีจีแถลงผลประกอบการปี 2558 เดินหน้าลงทุนต่อ...   \n",
       "2885 2016-01-28 00:58:00  ต่อไปแม้แต่การเล่นอินเตอร์เนตก็จะกลายเป็นเรื่อ...   \n",
       "\n",
       "                                            url  \\\n",
       "0     https://www.facebook.com/3978014498881647   \n",
       "1     https://www.facebook.com/4224292444253850   \n",
       "2     https://www.facebook.com/4224165540933207   \n",
       "3     https://www.facebook.com/4163090247040737   \n",
       "4     https://www.facebook.com/4221510804532014   \n",
       "...                                         ...   \n",
       "2881  https://www.facebook.com/1268282656521525   \n",
       "2882  https://www.facebook.com/1265195363496921   \n",
       "2883  https://www.facebook.com/1263363030346821   \n",
       "2884  https://www.facebook.com/1261482087201582   \n",
       "2885  https://www.facebook.com/1260764347273356   \n",
       "\n",
       "                                                emotion  comment  share  \\\n",
       "0     {'like': 139, 'love': 5, 'care': 2, 'haha': 0,...       11     50   \n",
       "1     {'like': 14, 'love': 0, 'care': 0, 'haha': 0, ...        0      1   \n",
       "2     {'like': 27, 'love': 0, 'care': 0, 'haha': 0, ...        0      2   \n",
       "3     {'like': 54, 'love': 0, 'care': 0, 'haha': 0, ...        0      3   \n",
       "4     {'like': 114, 'love': 4, 'care': 0, 'haha': 0,...        2      6   \n",
       "...                                                 ...      ...    ...   \n",
       "2881  {'like': 83, 'love': 0, 'care': 0, 'haha': 0, ...        0      5   \n",
       "2882  {'like': 47, 'love': 0, 'care': 0, 'haha': 0, ...        0      3   \n",
       "2883  {'like': 53, 'love': 0, 'care': 0, 'haha': 0, ...        0      2   \n",
       "2884  {'like': 294, 'love': 0, 'care': 0, 'haha': 0,...        0     12   \n",
       "2885  {'like': 34, 'love': 0, 'care': 0, 'haha': 0, ...        0      2   \n",
       "\n",
       "                                               hashtags  \n",
       "0                           [ลดโลกร้อนเริ่มที่เรา, SCG]  \n",
       "1                                                    []  \n",
       "2     [SCG, SDSymposium2020, ร่วมมือเพื่อโลก, Tansir...  \n",
       "3     [ลดโลกร้อนเริ่มที่เรา, SCG, ClimateEmergency, ...  \n",
       "4                                                    []  \n",
       "...                                                 ...  \n",
       "2881                                                 []  \n",
       "2882                                                 []  \n",
       "2883                                                 []  \n",
       "2884                                                 []  \n",
       "2885                                                 []  \n",
       "\n",
       "[1914 rows x 7 columns]"
      ],
      "text/html": "<div>\n<style scoped>\n    .dataframe tbody tr th:only-of-type {\n        vertical-align: middle;\n    }\n\n    .dataframe tbody tr th {\n        vertical-align: top;\n    }\n\n    .dataframe thead th {\n        text-align: right;\n    }\n</style>\n<table border=\"1\" class=\"dataframe\">\n  <thead>\n    <tr style=\"text-align: right;\">\n      <th></th>\n      <th>date</th>\n      <th>article</th>\n      <th>url</th>\n      <th>emotion</th>\n      <th>comment</th>\n      <th>share</th>\n      <th>hashtags</th>\n    </tr>\n  </thead>\n  <tbody>\n    <tr>\n      <th>0</th>\n      <td>2020-09-14 03:00:00</td>\n      <td>หากยังรู้สึกว่า \"อากาศร้อนขึ้นทุกปี\" โลกร้อน ก...</td>\n      <td>https://www.facebook.com/3978014498881647</td>\n      <td>{'like': 139, 'love': 5, 'care': 2, 'haha': 0,...</td>\n      <td>11</td>\n      <td>50</td>\n      <td>[ลดโลกร้อนเริ่มที่เรา, SCG]</td>\n    </tr>\n    <tr>\n      <th>1</th>\n      <td>2020-12-02 02:07:00</td>\n      <td>อดทน รับผิดชอบ มีวินัย 3 แนวทางที่เราช่วยกันได...</td>\n      <td>https://www.facebook.com/4224292444253850</td>\n      <td>{'like': 14, 'love': 0, 'care': 0, 'haha': 0, ...</td>\n      <td>0</td>\n      <td>1</td>\n      <td>[]</td>\n    </tr>\n    <tr>\n      <th>2</th>\n      <td>2020-12-02 00:52:00</td>\n      <td>เวลาพูดถึงการใช้ชีวิตที่ 'เป็นมิตรกับสิ่งแวดล้...</td>\n      <td>https://www.facebook.com/4224165540933207</td>\n      <td>{'like': 27, 'love': 0, 'care': 0, 'haha': 0, ...</td>\n      <td>0</td>\n      <td>2</td>\n      <td>[SCG, SDSymposium2020, ร่วมมือเพื่อโลก, Tansir...</td>\n    </tr>\n    <tr>\n      <th>3</th>\n      <td>2020-12-01 19:00:00</td>\n      <td>ลดโลกร้อนไม่ใช่เรื่องไกลตัว สามารถทำได้หลายวิธ...</td>\n      <td>https://www.facebook.com/4163090247040737</td>\n      <td>{'like': 54, 'love': 0, 'care': 0, 'haha': 0, ...</td>\n      <td>0</td>\n      <td>3</td>\n      <td>[ลดโลกร้อนเริ่มที่เรา, SCG, ClimateEmergency, ...</td>\n    </tr>\n    <tr>\n      <th>4</th>\n      <td>2020-12-01 04:30:00</td>\n      <td>อัปเดต Highlight เรื่องราวสำคัญเดือนพฤศจิกายน ...</td>\n      <td>https://www.facebook.com/4221510804532014</td>\n      <td>{'like': 114, 'love': 4, 'care': 0, 'haha': 0,...</td>\n      <td>2</td>\n      <td>6</td>\n      <td>[]</td>\n    </tr>\n    <tr>\n      <th>...</th>\n      <td>...</td>\n      <td>...</td>\n      <td>...</td>\n      <td>...</td>\n      <td>...</td>\n      <td>...</td>\n      <td>...</td>\n    </tr>\n    <tr>\n      <th>2881</th>\n      <td>2016-02-09 03:55:00</td>\n      <td>ยังมีเวลาสำหรับเพื่อนๆน้องๆ ที่อยากร่วมเป็นส่ว...</td>\n      <td>https://www.facebook.com/1268282656521525</td>\n      <td>{'like': 83, 'love': 0, 'care': 0, 'haha': 0, ...</td>\n      <td>0</td>\n      <td>5</td>\n      <td>[]</td>\n    </tr>\n    <tr>\n      <th>2882</th>\n      <td>2016-02-04 01:56:00</td>\n      <td>เพื่อนๆหลายคนน่าจะชอบปั่นจักรยานกันไม่ว่าจะไปท...</td>\n      <td>https://www.facebook.com/1265195363496921</td>\n      <td>{'like': 47, 'love': 0, 'care': 0, 'haha': 0, ...</td>\n      <td>0</td>\n      <td>3</td>\n      <td>[]</td>\n    </tr>\n    <tr>\n      <th>2883</th>\n      <td>2016-02-01 03:18:00</td>\n      <td>สำหรับพ่อแม่ที่ต้องการทำกิจกรรมแต่ต้องดูแลลูกน...</td>\n      <td>https://www.facebook.com/1263363030346821</td>\n      <td>{'like': 53, 'love': 0, 'care': 0, 'haha': 0, ...</td>\n      <td>0</td>\n      <td>2</td>\n      <td>[]</td>\n    </tr>\n    <tr>\n      <th>2884</th>\n      <td>2016-01-29 03:33:00</td>\n      <td>เอสซีจีแถลงผลประกอบการปี 2558 เดินหน้าลงทุนต่อ...</td>\n      <td>https://www.facebook.com/1261482087201582</td>\n      <td>{'like': 294, 'love': 0, 'care': 0, 'haha': 0,...</td>\n      <td>0</td>\n      <td>12</td>\n      <td>[]</td>\n    </tr>\n    <tr>\n      <th>2885</th>\n      <td>2016-01-28 00:58:00</td>\n      <td>ต่อไปแม้แต่การเล่นอินเตอร์เนตก็จะกลายเป็นเรื่อ...</td>\n      <td>https://www.facebook.com/1260764347273356</td>\n      <td>{'like': 34, 'love': 0, 'care': 0, 'haha': 0, ...</td>\n      <td>0</td>\n      <td>2</td>\n      <td>[]</td>\n    </tr>\n  </tbody>\n</table>\n<p>1914 rows × 7 columns</p>\n</div>"
     },
     "metadata": {},
     "execution_count": 13
    }
   ],
   "source": [
    "pd.read_json(savefile).drop_duplicates('url')\n",
    "#pd.read_json(savefile)"
   ]
  },
  {
   "cell_type": "code",
   "execution_count": null,
   "metadata": {},
   "outputs": [],
   "source": []
  },
  {
   "cell_type": "code",
   "execution_count": null,
   "metadata": {},
   "outputs": [],
   "source": []
  }
 ],
 "metadata": {
  "kernelspec": {
   "name": "python37564bit72de44cd76184052b9457c2863c13ac2",
   "display_name": "Python 3.7.5 64-bit",
   "language": "python"
  },
  "language_info": {
   "codemirror_mode": {
    "name": "ipython",
    "version": 3
   },
   "file_extension": ".py",
   "mimetype": "text/x-python",
   "name": "python",
   "nbconvert_exporter": "python",
   "pygments_lexer": "ipython3",
   "version": "3.7.5-final"
  }
 },
 "nbformat": 4,
 "nbformat_minor": 4
}