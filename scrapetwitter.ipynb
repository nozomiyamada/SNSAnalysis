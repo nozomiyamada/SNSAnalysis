{
 "cells": [
  {
   "cell_type": "code",
   "execution_count": 2,
   "metadata": {},
   "outputs": [],
   "source": [
    "from ScrapeTweet import *\n",
    "import pandas as pd\n",
    "import selenium\n",
    "import bs4, time, re, json\n",
    "from datetime import datetime, timedelta"
   ]
  },
  {
   "cell_type": "code",
   "execution_count": 3,
   "metadata": {},
   "outputs": [],
   "source": [
    "IDs = {\n",
    "    2: ('@AOTthailand', '02_AOT'),\n",
    "    3: ('@cpall_7eleven', '03_CPALL'),\n",
    "    4: ('@AIS_Thailand', '04_ADVANC'),\n",
    "    7: ('@scb_thailand', '07_SCB'),\n",
    "    8: ('@KBank_Live', '08_KBANK'),\n",
    "    9: ('@BangkokHospital', '09_BDMS'),\n",
    "    10: ('@BangkokBankSme', '10_BBL'),\n",
    "    11: ('@Centralnews', '11_CPN'),\n",
    "    13: ('@Krungthai_Care', '13_KTB'),\n",
    "    14: ('@IVLTeam', '14_IVL'),\n",
    "    16: ('@CPBrandTH', '16_CPF'),\n",
    "    17: ('@HomePro_TH', '17_HMPRO'),\n",
    "    21: ('@TrueMoveH', '21_TRUE'),\n",
    "    23: ('@BEM_MRT', '23_BEM'),\n",
    "    25: ('@BTS_SkyTrain', '25_BTS'),\n",
    "    27: ('@LHHome', '27_LH'),\n",
    "    28: ('@dtac', '28_DTAC'),\n",
    "    29: ('@BumrungradH', '29_BH'),\n",
    "    31: ('@KtcPrivilege', '31_KTC'),\n",
    "    34: ('@IRPCofficial', '34_IRPC'),\n",
    "    38: ('@tmb_bank', '38_TMB'),\n",
    "    46: ('@GroupWha', '46_WHA'),\n",
    "    50: ('@assetworldcorp', '50_AWC')\n",
    "}"
   ]
  },
  {
   "cell_type": "code",
   "execution_count": 10,
   "metadata": {},
   "outputs": [
    {
     "name": "stderr",
     "output_type": "stream",
     "text": [
      " 33%|███▎      | 1/3 [01:43<03:27, 103.89s/it]\n"
     ]
    },
    {
     "ename": "ConnectionError",
     "evalue": "check your internet connection status",
     "output_type": "error",
     "traceback": [
      "\u001b[0;31m---------------------------------------------------------------------------\u001b[0m",
      "\u001b[0;31mConnectionError\u001b[0m                           Traceback (most recent call last)",
      "\u001b[0;32m<ipython-input-10-689740fea513>\u001b[0m in \u001b[0;36m<module>\u001b[0;34m\u001b[0m\n\u001b[1;32m      9\u001b[0m     \u001b[0mscroll_time\u001b[0m \u001b[0;34m=\u001b[0m \u001b[0;36m30\u001b[0m\u001b[0;34m,\u001b[0m\u001b[0;34m\u001b[0m\u001b[0;34m\u001b[0m\u001b[0m\n\u001b[1;32m     10\u001b[0m     \u001b[0miter_time\u001b[0m \u001b[0;34m=\u001b[0m \u001b[0;36m3\u001b[0m\u001b[0;34m,\u001b[0m\u001b[0;34m\u001b[0m\u001b[0;34m\u001b[0m\u001b[0m\n\u001b[0;32m---> 11\u001b[0;31m     \u001b[0mheadless\u001b[0m \u001b[0;34m=\u001b[0m \u001b[0;32mFalse\u001b[0m\u001b[0;34m,\u001b[0m\u001b[0;34m\u001b[0m\u001b[0;34m\u001b[0m\u001b[0m\n\u001b[0m\u001b[1;32m     12\u001b[0m )\n",
      "\u001b[0;32m~/github/SNSAnalysis/ScrapeTweet.py\u001b[0m in \u001b[0;36mget_tweet_by_user\u001b[0;34m(user, filename, scroll_time, iter_time, headless, until_date, append_newdata)\u001b[0m\n\u001b[1;32m    386\u001b[0m             \u001b[0muntil\u001b[0m \u001b[0;34m=\u001b[0m \u001b[0mget_until_date\u001b[0m\u001b[0;34m(\u001b[0m\u001b[0mfilename\u001b[0m\u001b[0;34m)\u001b[0m \u001b[0;31m# 2020-03-31_17:02:58\u001b[0m\u001b[0;34m\u001b[0m\u001b[0;34m\u001b[0m\u001b[0m\n\u001b[1;32m    387\u001b[0m         \u001b[0murl\u001b[0m \u001b[0;34m=\u001b[0m \u001b[0;34mf'https://twitter.com/search?f=live&q=from%3A{user}%20until%3A{until}_ICT'\u001b[0m\u001b[0;34m\u001b[0m\u001b[0;34m\u001b[0m\u001b[0m\n\u001b[0;32m--> 388\u001b[0;31m         \u001b[0mwindow\u001b[0m\u001b[0;34m.\u001b[0m\u001b[0mget_page\u001b[0m\u001b[0;34m(\u001b[0m\u001b[0murl\u001b[0m\u001b[0;34m)\u001b[0m\u001b[0;34m\u001b[0m\u001b[0;34m\u001b[0m\u001b[0m\n\u001b[0m\u001b[1;32m    389\u001b[0m         \u001b[0;32mfor\u001b[0m \u001b[0m_\u001b[0m \u001b[0;32min\u001b[0m \u001b[0mrange\u001b[0m\u001b[0;34m(\u001b[0m\u001b[0mscroll_time\u001b[0m\u001b[0;34m)\u001b[0m\u001b[0;34m:\u001b[0m \u001b[0;31m# scroll\u001b[0m\u001b[0;34m\u001b[0m\u001b[0;34m\u001b[0m\u001b[0m\n\u001b[1;32m    390\u001b[0m             \u001b[0mcontents\u001b[0m \u001b[0;34m=\u001b[0m \u001b[0mwindow\u001b[0m\u001b[0;34m.\u001b[0m\u001b[0mget_contents\u001b[0m\u001b[0;34m(\u001b[0m\u001b[0;34m)\u001b[0m\u001b[0;34m\u001b[0m\u001b[0;34m\u001b[0m\u001b[0m\n",
      "\u001b[0;32m~/github/SNSAnalysis/ScrapeTweet.py\u001b[0m in \u001b[0;36mget_page\u001b[0;34m(self, url)\u001b[0m\n\u001b[1;32m     77\u001b[0m                     \u001b[0;32mreturn\u001b[0m\u001b[0;34m\u001b[0m\u001b[0;34m\u001b[0m\u001b[0m\n\u001b[1;32m     78\u001b[0m                 \u001b[0mtime\u001b[0m\u001b[0;34m.\u001b[0m\u001b[0msleep\u001b[0m\u001b[0;34m(\u001b[0m\u001b[0;36m2\u001b[0m\u001b[0;34m)\u001b[0m \u001b[0;31m# wait and try again\u001b[0m\u001b[0;34m\u001b[0m\u001b[0;34m\u001b[0m\u001b[0m\n\u001b[0;32m---> 79\u001b[0;31m         \u001b[0;32mraise\u001b[0m \u001b[0mConnectionError\u001b[0m\u001b[0;34m(\u001b[0m\u001b[0;34m'check your internet connection status'\u001b[0m\u001b[0;34m)\u001b[0m\u001b[0;34m\u001b[0m\u001b[0;34m\u001b[0m\u001b[0m\n\u001b[0m\u001b[1;32m     80\u001b[0m \u001b[0;34m\u001b[0m\u001b[0m\n\u001b[1;32m     81\u001b[0m \u001b[0;34m\u001b[0m\u001b[0m\n",
      "\u001b[0;31mConnectionError\u001b[0m: check your internet connection status"
     ]
    }
   ],
   "source": [
    "i = 13\n",
    "\n",
    "username = IDs[i][0]\n",
    "filepath = f'./tweet/{IDs[i][1]}_new.json'\n",
    "get_tweet_by_user(\n",
    "    user = username,\n",
    "    filename = filepath,\n",
    "    scroll_time = 30,\n",
    "    iter_time = 3,\n",
    "    headless = False,\n",
    ")"
   ]
  },
  {
   "cell_type": "code",
   "execution_count": 19,
   "metadata": {},
   "outputs": [
    {
     "name": "stdout",
     "output_type": "stream",
     "text": [
      "  },\n",
      "  {\n",
      "    \"date\": \"2020-09-25T12:30:51\",\n",
      "    \"displayname\": \"KBank Live\",\n",
      "    \"username\": \"KBank_Live\",\n",
      "    \"reply_to\": \"@power_power012\",\n",
      "    \"tweet\": \"จากการตรวจสอบยังไม่พบข้อความที่ลูกค้า DM เข้ามานะคะ ขอรบกวนแจ้งข้อมูลเพิ่มเติมทาง DM นะคะ   คลิก\",\n",
      "    \"hashtag\": [],\n",
      "    \"language\": \"th\",\n",
      "    \"reply\": \"1\",\n",
      "    \"retweet\": \"0\",\n",
      "    \"like\": \"0\",\n",
      "    \"url\": \"https://twitter.com/tweet/status/1309470421499088898\"\n",
      "  }\n",
      "]"
     ]
    }
   ],
   "source": [
    "!tail -n 15 tweet/08_KBANK_new.json"
   ]
  }
 ],
 "metadata": {
  "kernelspec": {
   "display_name": "Python 3",
   "language": "python",
   "name": "python3"
  },
  "language_info": {
   "codemirror_mode": {
    "name": "ipython",
    "version": 3
   },
   "file_extension": ".py",
   "mimetype": "text/x-python",
   "name": "python",
   "nbconvert_exporter": "python",
   "pygments_lexer": "ipython3",
   "version": "3.7.5"
  }
 },
 "nbformat": 4,
 "nbformat_minor": 4
}
