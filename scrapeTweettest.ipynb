{
 "metadata": {
  "language_info": {
   "codemirror_mode": {
    "name": "ipython",
    "version": 3
   },
   "file_extension": ".py",
   "mimetype": "text/x-python",
   "name": "python",
   "nbconvert_exporter": "python",
   "pygments_lexer": "ipython3",
   "version": "3.7.5-final"
  },
  "orig_nbformat": 2,
  "kernelspec": {
   "name": "python3",
   "display_name": "Python 3",
   "language": "python"
  }
 },
 "nbformat": 4,
 "nbformat_minor": 2,
 "cells": [
  {
   "cell_type": "code",
   "execution_count": 1,
   "metadata": {},
   "outputs": [],
   "source": [
    "from ScrapeTweet import make_url, get_tweet_by_user\n",
    "import pandas as pd\n",
    "import json, os, glob\n",
    "from tqdm import tqdm"
   ]
  },
  {
   "cell_type": "code",
   "execution_count": 2,
   "metadata": {},
   "outputs": [
    {
     "output_type": "execute_result",
     "data": {
      "text/plain": [
       "                     date  displayname   username      reply_to  \\\n",
       "0     2020-10-09 17:44:13  True Move H  TrueMoveH  @Nana_sayjin   \n",
       "1     2020-10-09 16:00:00  True Move H  TrueMoveH          None   \n",
       "2     2020-10-09 13:00:02  True Move H  TrueMoveH          None   \n",
       "3     2020-10-09 12:33:26  True Move H  TrueMoveH   @phatpimon_   \n",
       "4     2020-10-09 12:32:05  True Move H  TrueMoveH   @panchesska   \n",
       "...                   ...          ...        ...           ...   \n",
       "22388 2011-12-01 09:31:01  True Move H  TrueMoveH          None   \n",
       "22389 2011-12-01 05:46:03  True Move H  TrueMoveH          None   \n",
       "22390 2011-12-01 03:29:38  True Move H  TrueMoveH          None   \n",
       "22391 2011-11-30 09:24:21  True Move H  TrueMoveH          None   \n",
       "22392 2011-11-30 09:20:48  True Move H  TrueMoveH          None   \n",
       "\n",
       "                                                   tweet  \\\n",
       "0      แอดมินขออนุญาตสอบถามข้อมูลเพิ่มเติมเกี่ยวกับ  ...   \n",
       "1      #Lazada1010doublesale 💣 ระเบิดราคา ลดแล้วลดอีก...   \n",
       "2      📍 โปรสุดปัง 10.10 📍 รับเน็ตเต็มสปีดเพิ่มทันทีอ...   \n",
       "3      หากแอดมินได้รับข้อมูลทาง DM แล้วจะตรวจสอบและแจ...   \n",
       "4      สวัสดีค่ะคุณ Hakuna WTF สามารถแจ้งหมายเลขสมาชิ...   \n",
       "...                                                  ...   \n",
       "22388  TrueMove H \"Sim Delivery\" บริการดีๆ ที่คุณต้อง...   \n",
       "22389  ทรูมูฟ เอช พร้อมวางจำหน่าย iPhone 4S ในวันที่ ...   \n",
       "22390  ตั้งค่าการใช้งาน 3G+ (APN Setting) อย่างไร? คำ...   \n",
       "22391  สิ่งดีๆที่เราก็ทำได้แค่ลงมือ \"ทำดีให้พ่อดู\"......   \n",
       "22392  iDea DIY กับ iPad 2 ก็สามารถสร้างจินตนาการในแบ...   \n",
       "\n",
       "                                                 hashtag language  reply  \\\n",
       "0                                                     []       th      0   \n",
       "1      [#Lazada1010doublesale, #TrueMoveH, #TrueStore...       th      0   \n",
       "2      [#เติมเน็ตทรู, #เติมแพ็กเสริม, #เน็ตเต็มสปีด, ...       th      0   \n",
       "3                                                     []       th      1   \n",
       "4                                                     []       th      0   \n",
       "...                                                  ...      ...    ...   \n",
       "22388                                                 []       th      0   \n",
       "22389                                                 []       th      0   \n",
       "22390                                                 []       th      0   \n",
       "22391                                                 []       th      0   \n",
       "22392                                                 []       th      0   \n",
       "\n",
       "       retweet  like                                                url  \n",
       "0            0     0  https://twitter.com/tweet/status/1314622712346...  \n",
       "1            0     0  https://twitter.com/tweet/status/1314596485758...  \n",
       "2            0     0  https://twitter.com/tweet/status/1314551194157...  \n",
       "3            0     1  https://twitter.com/tweet/status/1314544500576...  \n",
       "4            0     0  https://twitter.com/tweet/status/1314544160347...  \n",
       "...        ...   ...                                                ...  \n",
       "22388        0     0  https://twitter.com/tweet/status/1421738481865...  \n",
       "22389        6     0  https://twitter.com/tweet/status/1421172335424...  \n",
       "22390        2     0  https://twitter.com/tweet/status/1420829023504...  \n",
       "22391        0     0  https://twitter.com/tweet/status/1418097835053...  \n",
       "22392        0     0  https://twitter.com/tweet/status/1418088903743...  \n",
       "\n",
       "[22393 rows x 11 columns]"
      ],
      "text/html": "<div>\n<style scoped>\n    .dataframe tbody tr th:only-of-type {\n        vertical-align: middle;\n    }\n\n    .dataframe tbody tr th {\n        vertical-align: top;\n    }\n\n    .dataframe thead th {\n        text-align: right;\n    }\n</style>\n<table border=\"1\" class=\"dataframe\">\n  <thead>\n    <tr style=\"text-align: right;\">\n      <th></th>\n      <th>date</th>\n      <th>displayname</th>\n      <th>username</th>\n      <th>reply_to</th>\n      <th>tweet</th>\n      <th>hashtag</th>\n      <th>language</th>\n      <th>reply</th>\n      <th>retweet</th>\n      <th>like</th>\n      <th>url</th>\n    </tr>\n  </thead>\n  <tbody>\n    <tr>\n      <th>0</th>\n      <td>2020-10-09 17:44:13</td>\n      <td>True Move H</td>\n      <td>TrueMoveH</td>\n      <td>@Nana_sayjin</td>\n      <td>แอดมินขออนุญาตสอบถามข้อมูลเพิ่มเติมเกี่ยวกับ  ...</td>\n      <td>[]</td>\n      <td>th</td>\n      <td>0</td>\n      <td>0</td>\n      <td>0</td>\n      <td>https://twitter.com/tweet/status/1314622712346...</td>\n    </tr>\n    <tr>\n      <th>1</th>\n      <td>2020-10-09 16:00:00</td>\n      <td>True Move H</td>\n      <td>TrueMoveH</td>\n      <td>None</td>\n      <td>#Lazada1010doublesale 💣 ระเบิดราคา ลดแล้วลดอีก...</td>\n      <td>[#Lazada1010doublesale, #TrueMoveH, #TrueStore...</td>\n      <td>th</td>\n      <td>0</td>\n      <td>0</td>\n      <td>0</td>\n      <td>https://twitter.com/tweet/status/1314596485758...</td>\n    </tr>\n    <tr>\n      <th>2</th>\n      <td>2020-10-09 13:00:02</td>\n      <td>True Move H</td>\n      <td>TrueMoveH</td>\n      <td>None</td>\n      <td>📍 โปรสุดปัง 10.10 📍 รับเน็ตเต็มสปีดเพิ่มทันทีอ...</td>\n      <td>[#เติมเน็ตทรู, #เติมแพ็กเสริม, #เน็ตเต็มสปีด, ...</td>\n      <td>th</td>\n      <td>0</td>\n      <td>0</td>\n      <td>0</td>\n      <td>https://twitter.com/tweet/status/1314551194157...</td>\n    </tr>\n    <tr>\n      <th>3</th>\n      <td>2020-10-09 12:33:26</td>\n      <td>True Move H</td>\n      <td>TrueMoveH</td>\n      <td>@phatpimon_</td>\n      <td>หากแอดมินได้รับข้อมูลทาง DM แล้วจะตรวจสอบและแจ...</td>\n      <td>[]</td>\n      <td>th</td>\n      <td>1</td>\n      <td>0</td>\n      <td>1</td>\n      <td>https://twitter.com/tweet/status/1314544500576...</td>\n    </tr>\n    <tr>\n      <th>4</th>\n      <td>2020-10-09 12:32:05</td>\n      <td>True Move H</td>\n      <td>TrueMoveH</td>\n      <td>@panchesska</td>\n      <td>สวัสดีค่ะคุณ Hakuna WTF สามารถแจ้งหมายเลขสมาชิ...</td>\n      <td>[]</td>\n      <td>th</td>\n      <td>0</td>\n      <td>0</td>\n      <td>0</td>\n      <td>https://twitter.com/tweet/status/1314544160347...</td>\n    </tr>\n    <tr>\n      <th>...</th>\n      <td>...</td>\n      <td>...</td>\n      <td>...</td>\n      <td>...</td>\n      <td>...</td>\n      <td>...</td>\n      <td>...</td>\n      <td>...</td>\n      <td>...</td>\n      <td>...</td>\n      <td>...</td>\n    </tr>\n    <tr>\n      <th>22388</th>\n      <td>2011-12-01 09:31:01</td>\n      <td>True Move H</td>\n      <td>TrueMoveH</td>\n      <td>None</td>\n      <td>TrueMove H \"Sim Delivery\" บริการดีๆ ที่คุณต้อง...</td>\n      <td>[]</td>\n      <td>th</td>\n      <td>0</td>\n      <td>0</td>\n      <td>0</td>\n      <td>https://twitter.com/tweet/status/1421738481865...</td>\n    </tr>\n    <tr>\n      <th>22389</th>\n      <td>2011-12-01 05:46:03</td>\n      <td>True Move H</td>\n      <td>TrueMoveH</td>\n      <td>None</td>\n      <td>ทรูมูฟ เอช พร้อมวางจำหน่าย iPhone 4S ในวันที่ ...</td>\n      <td>[]</td>\n      <td>th</td>\n      <td>0</td>\n      <td>6</td>\n      <td>0</td>\n      <td>https://twitter.com/tweet/status/1421172335424...</td>\n    </tr>\n    <tr>\n      <th>22390</th>\n      <td>2011-12-01 03:29:38</td>\n      <td>True Move H</td>\n      <td>TrueMoveH</td>\n      <td>None</td>\n      <td>ตั้งค่าการใช้งาน 3G+ (APN Setting) อย่างไร? คำ...</td>\n      <td>[]</td>\n      <td>th</td>\n      <td>0</td>\n      <td>2</td>\n      <td>0</td>\n      <td>https://twitter.com/tweet/status/1420829023504...</td>\n    </tr>\n    <tr>\n      <th>22391</th>\n      <td>2011-11-30 09:24:21</td>\n      <td>True Move H</td>\n      <td>TrueMoveH</td>\n      <td>None</td>\n      <td>สิ่งดีๆที่เราก็ทำได้แค่ลงมือ \"ทำดีให้พ่อดู\"......</td>\n      <td>[]</td>\n      <td>th</td>\n      <td>0</td>\n      <td>0</td>\n      <td>0</td>\n      <td>https://twitter.com/tweet/status/1418097835053...</td>\n    </tr>\n    <tr>\n      <th>22392</th>\n      <td>2011-11-30 09:20:48</td>\n      <td>True Move H</td>\n      <td>TrueMoveH</td>\n      <td>None</td>\n      <td>iDea DIY กับ iPad 2 ก็สามารถสร้างจินตนาการในแบ...</td>\n      <td>[]</td>\n      <td>th</td>\n      <td>0</td>\n      <td>0</td>\n      <td>0</td>\n      <td>https://twitter.com/tweet/status/1418088903743...</td>\n    </tr>\n  </tbody>\n</table>\n<p>22393 rows × 11 columns</p>\n</div>"
     },
     "metadata": {},
     "execution_count": 2
    }
   ],
   "source": [
    "df = pd.read_json('21_TRUE.json')\n",
    "df"
   ]
  },
  {
   "cell_type": "code",
   "execution_count": 3,
   "metadata": {},
   "outputs": [
    {
     "output_type": "stream",
     "name": "stderr",
     "text": [
      " 50%|█████     | 1/2 [00:31<00:31, 31.65s/it]NO RESULTS\n",
      " 50%|█████     | 1/2 [00:41<00:41, 41.89s/it]\n"
     ]
    },
    {
     "output_type": "error",
     "ename": "InvalidSessionIdException",
     "evalue": "Message: invalid session id\n",
     "traceback": [
      "\u001b[0;31m---------------------------------------------------------------------------\u001b[0m",
      "\u001b[0;31mInvalidSessionIdException\u001b[0m                 Traceback (most recent call last)",
      "\u001b[0;32m<ipython-input-3-6010d926e8ca>\u001b[0m in \u001b[0;36m<module>\u001b[0;34m\u001b[0m\n\u001b[1;32m      8\u001b[0m     \u001b[0miter_time\u001b[0m \u001b[0;34m=\u001b[0m \u001b[0;36m2\u001b[0m\u001b[0;34m,\u001b[0m\u001b[0;34m\u001b[0m\u001b[0;34m\u001b[0m\u001b[0m\n\u001b[1;32m      9\u001b[0m     \u001b[0mheadless\u001b[0m \u001b[0;34m=\u001b[0m \u001b[0;32mFalse\u001b[0m\u001b[0;34m,\u001b[0m\u001b[0;34m\u001b[0m\u001b[0;34m\u001b[0m\u001b[0m\n\u001b[0;32m---> 10\u001b[0;31m     \u001b[0mappend_newdata\u001b[0m \u001b[0;34m=\u001b[0m \u001b[0;32mTrue\u001b[0m\u001b[0;34m\u001b[0m\u001b[0;34m\u001b[0m\u001b[0m\n\u001b[0m\u001b[1;32m     11\u001b[0m )\n",
      "\u001b[0;32m~/github/SNSAnalysis/ScrapeTweet.py\u001b[0m in \u001b[0;36mget_tweet_by_user\u001b[0;34m(user, filename, scroll_time, iter_time, headless, until_date, append_newdata)\u001b[0m\n\u001b[1;32m    385\u001b[0m         \u001b[0mwindow\u001b[0m\u001b[0;34m.\u001b[0m\u001b[0mget_page\u001b[0m\u001b[0;34m(\u001b[0m\u001b[0murl\u001b[0m\u001b[0;34m)\u001b[0m\u001b[0;34m\u001b[0m\u001b[0;34m\u001b[0m\u001b[0m\n\u001b[1;32m    386\u001b[0m         \u001b[0;32mfor\u001b[0m \u001b[0m_\u001b[0m \u001b[0;32min\u001b[0m \u001b[0mrange\u001b[0m\u001b[0;34m(\u001b[0m\u001b[0mscroll_time\u001b[0m\u001b[0;34m)\u001b[0m\u001b[0;34m:\u001b[0m \u001b[0;31m# scroll\u001b[0m\u001b[0;34m\u001b[0m\u001b[0;34m\u001b[0m\u001b[0m\n\u001b[0;32m--> 387\u001b[0;31m             \u001b[0mcontents\u001b[0m \u001b[0;34m=\u001b[0m \u001b[0mwindow\u001b[0m\u001b[0;34m.\u001b[0m\u001b[0mget_contents\u001b[0m\u001b[0;34m(\u001b[0m\u001b[0;34m)\u001b[0m\u001b[0;34m\u001b[0m\u001b[0;34m\u001b[0m\u001b[0m\n\u001b[0m\u001b[1;32m    388\u001b[0m             \u001b[0mtweet_list\u001b[0m \u001b[0;34m+=\u001b[0m \u001b[0mget_tweets\u001b[0m\u001b[0;34m(\u001b[0m\u001b[0mcontents\u001b[0m\u001b[0;34m)\u001b[0m\u001b[0;34m\u001b[0m\u001b[0;34m\u001b[0m\u001b[0m\n\u001b[1;32m    389\u001b[0m             \u001b[0mtweet_list\u001b[0m \u001b[0;34m=\u001b[0m \u001b[0mdrop_duplicate\u001b[0m\u001b[0;34m(\u001b[0m\u001b[0mtweet_list\u001b[0m\u001b[0;34m)\u001b[0m\u001b[0;34m\u001b[0m\u001b[0;34m\u001b[0m\u001b[0m\n",
      "\u001b[0;32m~/github/SNSAnalysis/ScrapeTweet.py\u001b[0m in \u001b[0;36mget_contents\u001b[0;34m(self)\u001b[0m\n\u001b[1;32m     89\u001b[0m         \u001b[0meven\u001b[0m \u001b[0;32mif\u001b[0m \u001b[0mthe\u001b[0m \u001b[0mhtml\u001b[0m \u001b[0mstructure\u001b[0m \u001b[0mof\u001b[0m \u001b[0mTwitter\u001b[0m \u001b[0mchanges\u001b[0m\u001b[0;34m,\u001b[0m \u001b[0mthis\u001b[0m \u001b[0mcode\u001b[0m \u001b[0mcan\u001b[0m \u001b[0mbe\u001b[0m \u001b[0mused\u001b[0m\u001b[0;34m\u001b[0m\u001b[0;34m\u001b[0m\u001b[0m\n\u001b[1;32m     90\u001b[0m         \"\"\"\n\u001b[0;32m---> 91\u001b[0;31m         \u001b[0mself\u001b[0m\u001b[0;34m.\u001b[0m\u001b[0mhtml\u001b[0m \u001b[0;34m=\u001b[0m \u001b[0mself\u001b[0m\u001b[0;34m.\u001b[0m\u001b[0mdriver\u001b[0m\u001b[0;34m.\u001b[0m\u001b[0mpage_source\u001b[0m\u001b[0;34m.\u001b[0m\u001b[0mencode\u001b[0m\u001b[0;34m(\u001b[0m\u001b[0;34m'utf8'\u001b[0m\u001b[0;34m)\u001b[0m\u001b[0;34m\u001b[0m\u001b[0;34m\u001b[0m\u001b[0m\n\u001b[0m\u001b[1;32m     92\u001b[0m         \u001b[0mself\u001b[0m\u001b[0;34m.\u001b[0m\u001b[0msoup\u001b[0m \u001b[0;34m=\u001b[0m \u001b[0mBeautifulSoup\u001b[0m\u001b[0;34m(\u001b[0m\u001b[0mself\u001b[0m\u001b[0;34m.\u001b[0m\u001b[0mhtml\u001b[0m\u001b[0;34m,\u001b[0m \u001b[0;34m'html.parser'\u001b[0m\u001b[0;34m)\u001b[0m\u001b[0;34m\u001b[0m\u001b[0;34m\u001b[0m\u001b[0m\n\u001b[1;32m     93\u001b[0m         \u001b[0;32mreturn\u001b[0m \u001b[0mself\u001b[0m\u001b[0;34m.\u001b[0m\u001b[0msoup\u001b[0m\u001b[0;34m.\u001b[0m\u001b[0mfind_all\u001b[0m\u001b[0;34m(\u001b[0m\u001b[0;34m'article'\u001b[0m\u001b[0;34m)\u001b[0m\u001b[0;34m\u001b[0m\u001b[0;34m\u001b[0m\u001b[0m\n",
      "\u001b[0;32m/Library/Frameworks/Python.framework/Versions/3.7/lib/python3.7/site-packages/selenium/webdriver/remote/webdriver.py\u001b[0m in \u001b[0;36mpage_source\u001b[0;34m(self)\u001b[0m\n\u001b[1;32m    677\u001b[0m             \u001b[0mdriver\u001b[0m\u001b[0;34m.\u001b[0m\u001b[0mpage_source\u001b[0m\u001b[0;34m\u001b[0m\u001b[0;34m\u001b[0m\u001b[0m\n\u001b[1;32m    678\u001b[0m         \"\"\"\n\u001b[0;32m--> 679\u001b[0;31m         \u001b[0;32mreturn\u001b[0m \u001b[0mself\u001b[0m\u001b[0;34m.\u001b[0m\u001b[0mexecute\u001b[0m\u001b[0;34m(\u001b[0m\u001b[0mCommand\u001b[0m\u001b[0;34m.\u001b[0m\u001b[0mGET_PAGE_SOURCE\u001b[0m\u001b[0;34m)\u001b[0m\u001b[0;34m[\u001b[0m\u001b[0;34m'value'\u001b[0m\u001b[0;34m]\u001b[0m\u001b[0;34m\u001b[0m\u001b[0;34m\u001b[0m\u001b[0m\n\u001b[0m\u001b[1;32m    680\u001b[0m \u001b[0;34m\u001b[0m\u001b[0m\n\u001b[1;32m    681\u001b[0m     \u001b[0;32mdef\u001b[0m \u001b[0mclose\u001b[0m\u001b[0;34m(\u001b[0m\u001b[0mself\u001b[0m\u001b[0;34m)\u001b[0m\u001b[0;34m:\u001b[0m\u001b[0;34m\u001b[0m\u001b[0;34m\u001b[0m\u001b[0m\n",
      "\u001b[0;32m/Library/Frameworks/Python.framework/Versions/3.7/lib/python3.7/site-packages/selenium/webdriver/remote/webdriver.py\u001b[0m in \u001b[0;36mexecute\u001b[0;34m(self, driver_command, params)\u001b[0m\n\u001b[1;32m    319\u001b[0m         \u001b[0mresponse\u001b[0m \u001b[0;34m=\u001b[0m \u001b[0mself\u001b[0m\u001b[0;34m.\u001b[0m\u001b[0mcommand_executor\u001b[0m\u001b[0;34m.\u001b[0m\u001b[0mexecute\u001b[0m\u001b[0;34m(\u001b[0m\u001b[0mdriver_command\u001b[0m\u001b[0;34m,\u001b[0m \u001b[0mparams\u001b[0m\u001b[0;34m)\u001b[0m\u001b[0;34m\u001b[0m\u001b[0;34m\u001b[0m\u001b[0m\n\u001b[1;32m    320\u001b[0m         \u001b[0;32mif\u001b[0m \u001b[0mresponse\u001b[0m\u001b[0;34m:\u001b[0m\u001b[0;34m\u001b[0m\u001b[0;34m\u001b[0m\u001b[0m\n\u001b[0;32m--> 321\u001b[0;31m             \u001b[0mself\u001b[0m\u001b[0;34m.\u001b[0m\u001b[0merror_handler\u001b[0m\u001b[0;34m.\u001b[0m\u001b[0mcheck_response\u001b[0m\u001b[0;34m(\u001b[0m\u001b[0mresponse\u001b[0m\u001b[0;34m)\u001b[0m\u001b[0;34m\u001b[0m\u001b[0;34m\u001b[0m\u001b[0m\n\u001b[0m\u001b[1;32m    322\u001b[0m             response['value'] = self._unwrap_value(\n\u001b[1;32m    323\u001b[0m                 response.get('value', None))\n",
      "\u001b[0;32m/Library/Frameworks/Python.framework/Versions/3.7/lib/python3.7/site-packages/selenium/webdriver/remote/errorhandler.py\u001b[0m in \u001b[0;36mcheck_response\u001b[0;34m(self, response)\u001b[0m\n\u001b[1;32m    240\u001b[0m                 \u001b[0malert_text\u001b[0m \u001b[0;34m=\u001b[0m \u001b[0mvalue\u001b[0m\u001b[0;34m[\u001b[0m\u001b[0;34m'alert'\u001b[0m\u001b[0;34m]\u001b[0m\u001b[0;34m.\u001b[0m\u001b[0mget\u001b[0m\u001b[0;34m(\u001b[0m\u001b[0;34m'text'\u001b[0m\u001b[0;34m)\u001b[0m\u001b[0;34m\u001b[0m\u001b[0;34m\u001b[0m\u001b[0m\n\u001b[1;32m    241\u001b[0m             \u001b[0;32mraise\u001b[0m \u001b[0mexception_class\u001b[0m\u001b[0;34m(\u001b[0m\u001b[0mmessage\u001b[0m\u001b[0;34m,\u001b[0m \u001b[0mscreen\u001b[0m\u001b[0;34m,\u001b[0m \u001b[0mstacktrace\u001b[0m\u001b[0;34m,\u001b[0m \u001b[0malert_text\u001b[0m\u001b[0;34m)\u001b[0m\u001b[0;34m\u001b[0m\u001b[0;34m\u001b[0m\u001b[0m\n\u001b[0;32m--> 242\u001b[0;31m         \u001b[0;32mraise\u001b[0m \u001b[0mexception_class\u001b[0m\u001b[0;34m(\u001b[0m\u001b[0mmessage\u001b[0m\u001b[0;34m,\u001b[0m \u001b[0mscreen\u001b[0m\u001b[0;34m,\u001b[0m \u001b[0mstacktrace\u001b[0m\u001b[0;34m)\u001b[0m\u001b[0;34m\u001b[0m\u001b[0;34m\u001b[0m\u001b[0m\n\u001b[0m\u001b[1;32m    243\u001b[0m \u001b[0;34m\u001b[0m\u001b[0m\n\u001b[1;32m    244\u001b[0m     \u001b[0;32mdef\u001b[0m \u001b[0m_value_or_default\u001b[0m\u001b[0;34m(\u001b[0m\u001b[0mself\u001b[0m\u001b[0;34m,\u001b[0m \u001b[0mobj\u001b[0m\u001b[0;34m,\u001b[0m \u001b[0mkey\u001b[0m\u001b[0;34m,\u001b[0m \u001b[0mdefault\u001b[0m\u001b[0;34m)\u001b[0m\u001b[0;34m:\u001b[0m\u001b[0;34m\u001b[0m\u001b[0;34m\u001b[0m\u001b[0m\n",
      "\u001b[0;31mInvalidSessionIdException\u001b[0m: Message: invalid session id\n"
     ]
    }
   ],
   "source": [
    "username = '@TrueMoveH'\n",
    "filepath = '21_True.json'\n",
    "\n",
    "get_tweet_by_user(\n",
    "    user = username,\n",
    "    filename = filepath,\n",
    "    scroll_time = 10,\n",
    "    iter_time = 2,\n",
    "    headless = False,\n",
    "    append_newdata = True\n",
    ")"
   ]
  },
  {
   "cell_type": "code",
   "execution_count": null,
   "metadata": {},
   "outputs": [],
   "source": []
  }
 ]
}